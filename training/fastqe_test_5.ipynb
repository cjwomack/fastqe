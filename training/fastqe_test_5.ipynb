{
  "nbformat": 4,
  "nbformat_minor": 0,
  "metadata": {
    "kernelspec": {
      "name": "python3",
      "display_name": "Python 3",
      "language": "python"
    },
    "language_info": {
      "name": "python",
      "version": "3.7.6",
      "mimetype": "text/x-python",
      "codemirror_mode": {
        "name": "ipython",
        "version": 3
      },
      "pygments_lexer": "ipython3",
      "nbconvert_exporter": "python",
      "file_extension": ".py"
    },
    "colab": {
      "name": "fastqe_test.ipynb",
      "provenance": []
    }
  },
  "cells": [
    {
      "cell_type": "code",
      "metadata": {
        "id": "d98kMcdjajEC",
        "colab_type": "code",
        "colab": {
          "base_uri": "https://localhost:8080/",
          "height": 204
        },
        "outputId": "916dc017-cd8b-4641-8a95-7847dcba0176"
      },
      "source": [
        "!pip install fastqe"
      ],
      "execution_count": 1,
      "outputs": [
        {
          "output_type": "stream",
          "text": [
            "Collecting fastqe\n",
            "  Downloading https://files.pythonhosted.org/packages/eb/39/3dbd8f59bccfb6197b3e4b34684b1f4f519d928a7d1d73bc32d7b7a78eb9/fastqe-0.2.6-py3-none-any.whl\n",
            "Collecting pyemojify\n",
            "  Downloading https://files.pythonhosted.org/packages/59/f1/c7efdd1d7dcf296796d9e68071d5ec8e5b89cad73c2fbd4a6894284c4955/pyemojify-0.2.0-py2.py3-none-any.whl\n",
            "Collecting biopython>=1.66\n",
            "\u001b[?25l  Downloading https://files.pythonhosted.org/packages/a8/66/134dbd5f885fc71493c61b6cf04c9ea08082da28da5ed07709b02857cbd0/biopython-1.77-cp36-cp36m-manylinux1_x86_64.whl (2.3MB)\n",
            "\u001b[K     |████████████████████████████████| 2.3MB 4.3MB/s \n",
            "\u001b[?25hRequirement already satisfied: click>=4.1 in /usr/local/lib/python3.6/dist-packages (from pyemojify->fastqe) (7.1.2)\n",
            "Requirement already satisfied: numpy in /usr/local/lib/python3.6/dist-packages (from biopython>=1.66->fastqe) (1.18.5)\n",
            "Installing collected packages: pyemojify, biopython, fastqe\n",
            "Successfully installed biopython-1.77 fastqe-0.2.6 pyemojify-0.2.0\n"
          ],
          "name": "stdout"
        }
      ]
    },
    {
      "cell_type": "code",
      "metadata": {
        "trusted": true,
        "id": "L0uKOQLyZ_4h",
        "colab_type": "code",
        "colab": {
          "base_uri": "https://localhost:8080/",
          "height": 34
        },
        "outputId": "c7ab95b2-cdeb-45dd-eec3-a2fce6c8a2f7"
      },
      "source": [
        "%%bash\n",
        "pwd\n",
        "p"
      ],
      "execution_count": null,
      "outputs": [
        {
          "output_type": "stream",
          "text": [
            "/content\n"
          ],
          "name": "stdout"
        }
      ]
    },
    {
      "cell_type": "code",
      "metadata": {
        "id": "5-_7nyZEfuF-",
        "colab_type": "code",
        "colab": {}
      },
      "source": [
        "import fastqe"
      ],
      "execution_count": null,
      "outputs": []
    },
    {
      "cell_type": "code",
      "metadata": {
        "id": "6cEiigMPfxOS",
        "colab_type": "code",
        "colab": {}
      },
      "source": [
        ""
      ],
      "execution_count": null,
      "outputs": []
    },
    {
      "cell_type": "code",
      "metadata": {
        "id": "flLzLIRadRP7",
        "colab_type": "code",
        "colab": {
          "base_uri": "https://localhost:8080/",
          "height": 121
        },
        "outputId": "547d93db-4643-4f30-fda9-bf956d4fce38"
      },
      "source": [
        "!wget \"https://raw.githubusercontent.com/cjwomack/fastqe/blob/69a00068be8125e0ca7fbda72dc2bf03b010ef59/test/test.fastq\""
      ],
      "execution_count": null,
      "outputs": [
        {
          "output_type": "stream",
          "text": [
            "--2020-07-20 09:07:15--  https://raw.githubusercontent.com/cjwomack/fastqe/blob/69a00068be8125e0ca7fbda72dc2bf03b010ef59/test/test.fastq\n",
            "Resolving raw.githubusercontent.com (raw.githubusercontent.com)... 151.101.0.133, 151.101.64.133, 151.101.128.133, ...\n",
            "Connecting to raw.githubusercontent.com (raw.githubusercontent.com)|151.101.0.133|:443... connected.\n",
            "HTTP request sent, awaiting response... 404 Not Found\n",
            "2020-07-20 09:07:15 ERROR 404: Not Found.\n",
            "\n"
          ],
          "name": "stdout"
        }
      ]
    },
    {
      "cell_type": "code",
      "metadata": {
        "id": "IXdEE-kSfFT0",
        "colab_type": "code",
        "colab": {
          "base_uri": "https://localhost:8080/",
          "height": 204
        },
        "outputId": "406aca80-2143-487a-ba27-c7970ef2b5ac"
      },
      "source": [
        "!wget \"https://raw.githubusercontent.com/cjwomack/fastqe/master/test/test.fastq\""
      ],
      "execution_count": 2,
      "outputs": [
        {
          "output_type": "stream",
          "text": [
            "--2020-07-20 16:23:06--  https://raw.githubusercontent.com/cjwomack/fastqe/master/test/test.fastq\n",
            "Resolving raw.githubusercontent.com (raw.githubusercontent.com)... 151.101.0.133, 151.101.64.133, 151.101.128.133, ...\n",
            "Connecting to raw.githubusercontent.com (raw.githubusercontent.com)|151.101.0.133|:443... connected.\n",
            "HTTP request sent, awaiting response... 200 OK\n",
            "Length: 2225 (2.2K) [text/plain]\n",
            "Saving to: ‘test.fastq’\n",
            "\n",
            "\rtest.fastq            0%[                    ]       0  --.-KB/s               \rtest.fastq          100%[===================>]   2.17K  --.-KB/s    in 0s      \n",
            "\n",
            "2020-07-20 16:23:06 (44.8 MB/s) - ‘test.fastq’ saved [2225/2225]\n",
            "\n"
          ],
          "name": "stdout"
        }
      ]
    },
    {
      "cell_type": "code",
      "metadata": {
        "id": "7uVoJ_q0_Xck",
        "colab_type": "code",
        "colab": {
          "base_uri": "https://localhost:8080/",
          "height": 204
        },
        "outputId": "96af2f0f-9ca8-4774-8a9e-f3a187447033"
      },
      "source": [
        "!wget \"https://raw.githubusercontent.com/cjwomack/fastqe/fasta_display/test/protein.fasta\""
      ],
      "execution_count": 3,
      "outputs": [
        {
          "output_type": "stream",
          "text": [
            "--2020-07-20 16:23:09--  https://raw.githubusercontent.com/cjwomack/fastqe/fasta_display/test/protein.fasta\n",
            "Resolving raw.githubusercontent.com (raw.githubusercontent.com)... 151.101.0.133, 151.101.64.133, 151.101.128.133, ...\n",
            "Connecting to raw.githubusercontent.com (raw.githubusercontent.com)|151.101.0.133|:443... connected.\n",
            "HTTP request sent, awaiting response... 200 OK\n",
            "Length: 2363 (2.3K) [text/plain]\n",
            "Saving to: ‘protein.fasta’\n",
            "\n",
            "\rprotein.fasta         0%[                    ]       0  --.-KB/s               \rprotein.fasta       100%[===================>]   2.31K  --.-KB/s    in 0s      \n",
            "\n",
            "2020-07-20 16:23:09 (40.9 MB/s) - ‘protein.fasta’ saved [2363/2363]\n",
            "\n"
          ],
          "name": "stdout"
        }
      ]
    },
    {
      "cell_type": "code",
      "metadata": {
        "id": "a1uvXtcMgIKT",
        "colab_type": "code",
        "colab": {
          "base_uri": "https://localhost:8080/",
          "height": 204
        },
        "outputId": "fa7cf335-14e6-4af3-f0ca-d24d31b97bb9"
      },
      "source": [
        "!wget \"https://raw.githubusercontent.com/cjwomack/fastqe/fasta_display/training/i_fastqe_2.py\""
      ],
      "execution_count": 4,
      "outputs": [
        {
          "output_type": "stream",
          "text": [
            "--2020-07-20 16:23:13--  https://raw.githubusercontent.com/cjwomack/fastqe/fasta_display/training/i_fastqe_2.py\n",
            "Resolving raw.githubusercontent.com (raw.githubusercontent.com)... 151.101.0.133, 151.101.64.133, 151.101.128.133, ...\n",
            "Connecting to raw.githubusercontent.com (raw.githubusercontent.com)|151.101.0.133|:443... connected.\n",
            "HTTP request sent, awaiting response... 200 OK\n",
            "Length: 20598 (20K) [text/plain]\n",
            "Saving to: ‘i_fastqe_2.py’\n",
            "\n",
            "\ri_fastqe_2.py         0%[                    ]       0  --.-KB/s               \ri_fastqe_2.py       100%[===================>]  20.12K  --.-KB/s    in 0.01s   \n",
            "\n",
            "2020-07-20 16:23:13 (1.61 MB/s) - ‘i_fastqe_2.py’ saved [20598/20598]\n",
            "\n"
          ],
          "name": "stdout"
        }
      ]
    },
    {
      "cell_type": "code",
      "metadata": {
        "id": "IfQ-dR1ogoIB",
        "colab_type": "code",
        "colab": {
          "base_uri": "https://localhost:8080/",
          "height": 204
        },
        "outputId": "af2d95e7-53e5-4888-f83c-0d76bae4f485"
      },
      "source": [
        "!wget \"https://raw.githubusercontent.com/cjwomack/fastqe/fasta_display/fastqe/fastqe_map.py\""
      ],
      "execution_count": 5,
      "outputs": [
        {
          "output_type": "stream",
          "text": [
            "--2020-07-20 16:23:15--  https://raw.githubusercontent.com/cjwomack/fastqe/fasta_display/fastqe/fastqe_map.py\n",
            "Resolving raw.githubusercontent.com (raw.githubusercontent.com)... 151.101.0.133, 151.101.64.133, 151.101.128.133, ...\n",
            "Connecting to raw.githubusercontent.com (raw.githubusercontent.com)|151.101.0.133|:443... connected.\n",
            "HTTP request sent, awaiting response... 200 OK\n",
            "Length: 3895 (3.8K) [text/plain]\n",
            "Saving to: ‘fastqe_map.py’\n",
            "\n",
            "\rfastqe_map.py         0%[                    ]       0  --.-KB/s               \rfastqe_map.py       100%[===================>]   3.80K  --.-KB/s    in 0s      \n",
            "\n",
            "2020-07-20 16:23:16 (61.6 MB/s) - ‘fastqe_map.py’ saved [3895/3895]\n",
            "\n"
          ],
          "name": "stdout"
        }
      ]
    },
    {
      "cell_type": "code",
      "metadata": {
        "id": "QI6SGfPBdjar",
        "colab_type": "code",
        "colab": {
          "base_uri": "https://localhost:8080/",
          "height": 34
        },
        "outputId": "3bc5ae21-2f60-4da1-d3e0-5d322eef1bd5"
      },
      "source": [
        "%ls"
      ],
      "execution_count": null,
      "outputs": [
        {
          "output_type": "stream",
          "text": [
            "fastqe_map.py  i_fastqe.py  \u001b[0m\u001b[01;34m__pycache__\u001b[0m/  \u001b[01;34msample_data\u001b[0m/  test.fastq\n"
          ],
          "name": "stdout"
        }
      ]
    },
    {
      "cell_type": "code",
      "metadata": {
        "id": "mGfu_1vsgXOa",
        "colab_type": "code",
        "colab": {
          "base_uri": "https://localhost:8080/",
          "height": 54
        },
        "outputId": "839f3ffd-782c-4e28-d8cd-f298e9e21b6b"
      },
      "source": [
        "import i_fastqe\n",
        "i_fastqe.run_fastqe([\"test.fastq\"])"
      ],
      "execution_count": null,
      "outputs": [
        {
          "output_type": "stream",
          "text": [
            "test.fastq\tmean\t😘 😆 ☺️ ☺️ 😋 😜 😜 😜 😋 😜 😜 😉 😁 😁 😁 😁 😁 😉 😉 😁 😁 😁 😄 😁 😁 😄 😄 😁 😄 😁 😁 😁 😄 😄 😄 😄 😁 😄 😉 😁 😄 😁 😁 😄 😄 😁 😁 😄 😉 😁 😁 😝 😝 😁 😁 ☺️ 😁 😉 😁 😁 😁 😁 😁 😝 😁 😁 😁 😁 😝 😁 😁 😉 😁 😁 😉 😁 😉 😃 😉 😁 😁 😁 😄 😁 😄 😄 😁 😄 😁 😝 😁 😄 😄 😁 😉 😁 😉 😁 😁 😁 😁 😄 😄 😁 😁 ☺️ 😉 😜 😁 😁 😁 😁 😁 😉 😁 😜 😁 😝 😁 😁 😁 😁 😁 😁 😁 😁 😁 😉 😄 😜 😁 😄 😁 😄 😁 😄 😁 😁 😜 😜 😜 😜 😉 😜 😉 😁 😉 😋 😜 😛 😉 😜 😜 😜 😉 😉 😉 😁 😁 😁 😁 😁 😋 😛 😜 😜 😁 😛 😄 😋 😛 😝 😉 😉 😄 ☺️ 😜 😜 😛 😆 😛 😉 😜 😜 😜 😜 😋 😝 😋 😜 😉 😉 😄 😉 😝 😝 😛 😋 😜 😜 😜 😄 😆 😜 😝 😉 😜 😋 😉 😜 😄 ☺️ ☺️ 😜 😘 😝 😆 😄 😜 😜 😜 😉 😛 😄 ☺️ 😙 😊 😄 😝 😆 😜 😉 😜 😄 😄 ☺️ ☺️ 😜 😉 😜 😉 😆 😆 😛 😙 😃 😙 😘 😝 😙 😡\n"
          ],
          "name": "stdout"
        }
      ]
    },
    {
      "cell_type": "code",
      "metadata": {
        "id": "dsiHv1X4_8EP",
        "colab_type": "code",
        "colab": {}
      },
      "source": [
        "rm fastqe_map.py"
      ],
      "execution_count": null,
      "outputs": []
    },
    {
      "cell_type": "code",
      "metadata": {
        "id": "Ti88RAXXj0MO",
        "colab_type": "code",
        "colab": {
          "base_uri": "https://localhost:8080/",
          "height": 316
        },
        "outputId": "2c8ba279-e2ea-44de-a641-c8c8d023ce11"
      },
      "source": [
        "import i_fastqe_2\n",
        "i_fastqe_2.run_fastqe([\"protein.fasta\"],scale=True)"
      ],
      "execution_count": 6,
      "outputs": [
        {
          "output_type": "error",
          "ename": "NameError",
          "evalue": "ignored",
          "traceback": [
            "\u001b[0;31m---------------------------------------------------------------------------\u001b[0m",
            "\u001b[0;31mNameError\u001b[0m                                 Traceback (most recent call last)",
            "\u001b[0;32m<ipython-input-6-5b93e1905b3e>\u001b[0m in \u001b[0;36m<module>\u001b[0;34m()\u001b[0m\n\u001b[1;32m      1\u001b[0m \u001b[0;32mimport\u001b[0m \u001b[0mi_fastqe_2\u001b[0m\u001b[0;34m\u001b[0m\u001b[0;34m\u001b[0m\u001b[0m\n\u001b[0;32m----> 2\u001b[0;31m \u001b[0mi_fastqe_2\u001b[0m\u001b[0;34m.\u001b[0m\u001b[0mrun_fastqe\u001b[0m\u001b[0;34m(\u001b[0m\u001b[0;34m[\u001b[0m\u001b[0;34m\"protein.fasta\"\u001b[0m\u001b[0;34m]\u001b[0m\u001b[0;34m,\u001b[0m\u001b[0mscale\u001b[0m\u001b[0;34m=\u001b[0m\u001b[0;32mTrue\u001b[0m\u001b[0;34m)\u001b[0m\u001b[0;34m\u001b[0m\u001b[0;34m\u001b[0m\u001b[0m\n\u001b[0m",
            "\u001b[0;32m/content/i_fastqe_2.py\u001b[0m in \u001b[0;36mrun_fastqe\u001b[0;34m(fasta_files, minlen, scale, version, mean, custom, noemoji, min, max, output, long, log, bin, fasta)\u001b[0m\n\u001b[1;32m    561\u001b[0m                \u001b[0mmean\u001b[0m \u001b[0;34m=\u001b[0m \u001b[0;32mTrue\u001b[0m\u001b[0;34m,\u001b[0m\u001b[0mcustom\u001b[0m\u001b[0;34m=\u001b[0m\u001b[0;32mNone\u001b[0m\u001b[0;34m,\u001b[0m\u001b[0mnoemoji\u001b[0m\u001b[0;34m=\u001b[0m\u001b[0;32mFalse\u001b[0m\u001b[0;34m,\u001b[0m\u001b[0mmin\u001b[0m\u001b[0;34m=\u001b[0m\u001b[0;32mFalse\u001b[0m\u001b[0;34m,\u001b[0m\u001b[0mmax\u001b[0m\u001b[0;34m=\u001b[0m\u001b[0;32mFalse\u001b[0m\u001b[0;34m,\u001b[0m\u001b[0;34m\u001b[0m\u001b[0;34m\u001b[0m\u001b[0m\n\u001b[1;32m    562\u001b[0m                output=None,long=None,log=None,bin=False,fasta=False):\n\u001b[0;32m--> 563\u001b[0;31m     \u001b[0moptions\u001b[0m \u001b[0;34m=\u001b[0m \u001b[0mNamespace\u001b[0m\u001b[0;34m(\u001b[0m\u001b[0mbin\u001b[0m\u001b[0;34m=\u001b[0m\u001b[0mbin\u001b[0m\u001b[0;34m,\u001b[0m \u001b[0mfasta\u001b[0m\u001b[0;34m=\u001b[0m\u001b[0mfasta\u001b[0m\u001b[0;34m,\u001b[0m \u001b[0mcustom\u001b[0m\u001b[0;34m=\u001b[0m\u001b[0mcustom\u001b[0m\u001b[0;34m,\u001b[0m \u001b[0mfasta_files\u001b[0m\u001b[0;34m=\u001b[0m\u001b[0mfasta_files\u001b[0m\u001b[0;34m,\u001b[0m\u001b[0mlog\u001b[0m\u001b[0;34m=\u001b[0m\u001b[0mlog\u001b[0m\u001b[0;34m,\u001b[0m \u001b[0mlong\u001b[0m\u001b[0;34m=\u001b[0m\u001b[0mlong\u001b[0m\u001b[0;34m,\u001b[0m \u001b[0mmax\u001b[0m\u001b[0;34m=\u001b[0m\u001b[0mmax\u001b[0m\u001b[0;34m,\u001b[0m \u001b[0mmean\u001b[0m\u001b[0;34m=\u001b[0m\u001b[0mmean\u001b[0m\u001b[0;34m,\u001b[0m \u001b[0mmin\u001b[0m\u001b[0;34m=\u001b[0m\u001b[0mmin\u001b[0m\u001b[0;34m,\u001b[0m \u001b[0mminlen\u001b[0m\u001b[0;34m=\u001b[0m\u001b[0mminlen\u001b[0m\u001b[0;34m,\u001b[0m \u001b[0mnoemoji\u001b[0m\u001b[0;34m=\u001b[0m\u001b[0mnoemoji\u001b[0m\u001b[0;34m,\u001b[0m \u001b[0moutput\u001b[0m\u001b[0;34m=\u001b[0m\u001b[0moutput\u001b[0m\u001b[0;34m,\u001b[0m \u001b[0mscale\u001b[0m\u001b[0;34m=\u001b[0m\u001b[0mscale\u001b[0m\u001b[0;34m,\u001b[0m \u001b[0mversion\u001b[0m\u001b[0;34m=\u001b[0m\u001b[0;32mTrue\u001b[0m\u001b[0;34m)\u001b[0m\u001b[0;34m\u001b[0m\u001b[0;34m\u001b[0m\u001b[0m\n\u001b[0m\u001b[1;32m    564\u001b[0m \u001b[0;34m\u001b[0m\u001b[0m\n\u001b[1;32m    565\u001b[0m     \u001b[0mprocess_files\u001b[0m\u001b[0;34m(\u001b[0m\u001b[0moptions\u001b[0m\u001b[0;34m)\u001b[0m\u001b[0;34m\u001b[0m\u001b[0;34m\u001b[0m\u001b[0m\n",
            "\u001b[0;31mNameError\u001b[0m: name 'Namespace' is not defined"
          ]
        }
      ]
    },
    {
      "cell_type": "code",
      "metadata": {
        "id": "gkyMfUmghR19",
        "colab_type": "code",
        "colab": {}
      },
      "source": [
        "☺😘☺️"
      ],
      "execution_count": null,
      "outputs": []
    },
    {
      "cell_type": "code",
      "metadata": {
        "id": "RDNgRQafg5tT",
        "colab_type": "code",
        "colab": {
          "base_uri": "https://localhost:8080/",
          "height": 311
        },
        "outputId": "d2eef6e7-d3fc-416b-df38-010be31a2fc7"
      },
      "source": [
        "%%bash\n",
        "fc-list"
      ],
      "execution_count": null,
      "outputs": [
        {
          "output_type": "stream",
          "text": [
            "/usr/share/fonts/truetype/liberation/LiberationSansNarrow-Italic.ttf: Liberation Sans Narrow:style=Italic\n",
            "/usr/share/fonts/truetype/liberation/LiberationSans-Regular.ttf: Liberation Sans:style=Regular\n",
            "/usr/share/fonts/truetype/liberation/LiberationMono-BoldItalic.ttf: Liberation Mono:style=Bold Italic\n",
            "/usr/share/fonts/truetype/liberation/LiberationSerif-Italic.ttf: Liberation Serif:style=Italic\n",
            "/usr/share/fonts/truetype/liberation/LiberationMono-Bold.ttf: Liberation Mono:style=Bold\n",
            "/usr/share/fonts/truetype/liberation/LiberationSansNarrow-Regular.ttf: Liberation Sans Narrow:style=Regular\n",
            "/usr/share/fonts/truetype/liberation/LiberationSerif-Bold.ttf: Liberation Serif:style=Bold\n",
            "/usr/share/fonts/truetype/liberation/LiberationMono-Regular.ttf: Liberation Mono:style=Regular\n",
            "/usr/share/fonts/truetype/liberation/LiberationSans-Italic.ttf: Liberation Sans:style=Italic\n",
            "/usr/share/fonts/truetype/liberation/LiberationSerif-BoldItalic.ttf: Liberation Serif:style=Bold Italic\n",
            "/usr/share/fonts/truetype/liberation/LiberationSansNarrow-BoldItalic.ttf: Liberation Sans Narrow:style=Bold Italic\n",
            "/usr/share/fonts/truetype/liberation/LiberationMono-Italic.ttf: Liberation Mono:style=Italic\n",
            "/usr/share/fonts/truetype/liberation/LiberationSans-BoldItalic.ttf: Liberation Sans:style=Bold Italic\n",
            "/usr/share/fonts/truetype/liberation/LiberationSerif-Regular.ttf: Liberation Serif:style=Regular\n",
            "/usr/share/fonts/truetype/liberation/LiberationSansNarrow-Bold.ttf: Liberation Sans Narrow:style=Bold\n",
            "/usr/share/fonts/truetype/liberation/LiberationSans-Bold.ttf: Liberation Sans:style=Bold\n",
            "/usr/share/fonts/truetype/humor-sans/Humor-Sans.ttf: Humor Sans:style=Regular\n"
          ],
          "name": "stdout"
        }
      ]
    },
    {
      "cell_type": "code",
      "metadata": {
        "id": "jUbxjtsodmzU",
        "colab_type": "code",
        "colab": {}
      },
      "source": [
        "%%bash\n",
        "rm test.fastq*"
      ],
      "execution_count": null,
      "outputs": []
    }
  ]
}