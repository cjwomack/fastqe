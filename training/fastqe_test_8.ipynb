{
  "nbformat": 4,
  "nbformat_minor": 0,
  "metadata": {
    "kernelspec": {
      "name": "python3",
      "display_name": "Python 3",
      "language": "python"
    },
    "language_info": {
      "name": "python",
      "version": "3.7.6",
      "mimetype": "text/x-python",
      "codemirror_mode": {
        "name": "ipython",
        "version": 3
      },
      "pygments_lexer": "ipython3",
      "nbconvert_exporter": "python",
      "file_extension": ".py"
    },
    "colab": {
      "name": "fastqe_test.ipynb",
      "provenance": []
    }
  },
  "cells": [
    {
      "cell_type": "code",
      "metadata": {
        "id": "d98kMcdjajEC",
        "colab_type": "code",
        "colab": {
          "base_uri": "https://localhost:8080/",
          "height": 227
        },
        "outputId": "202f5cd1-579f-4a52-e44a-7b855dd510b0"
      },
      "source": [
        "!pip install fastqe"
      ],
      "execution_count": 1,
      "outputs": [
        {
          "output_type": "stream",
          "text": [
            "Collecting fastqe\n",
            "  Downloading https://files.pythonhosted.org/packages/eb/39/3dbd8f59bccfb6197b3e4b34684b1f4f519d928a7d1d73bc32d7b7a78eb9/fastqe-0.2.6-py3-none-any.whl\n",
            "Collecting biopython>=1.66\n",
            "\u001b[?25l  Downloading https://files.pythonhosted.org/packages/a8/66/134dbd5f885fc71493c61b6cf04c9ea08082da28da5ed07709b02857cbd0/biopython-1.77-cp36-cp36m-manylinux1_x86_64.whl (2.3MB)\n",
            "\u001b[K     |████████████████████████████████| 2.3MB 3.8MB/s \n",
            "\u001b[?25hCollecting pyemojify\n",
            "  Downloading https://files.pythonhosted.org/packages/59/f1/c7efdd1d7dcf296796d9e68071d5ec8e5b89cad73c2fbd4a6894284c4955/pyemojify-0.2.0-py2.py3-none-any.whl\n",
            "Requirement already satisfied: numpy in /usr/local/lib/python3.6/dist-packages (from biopython>=1.66->fastqe) (1.18.5)\n",
            "Requirement already satisfied: click>=4.1 in /usr/local/lib/python3.6/dist-packages (from pyemojify->fastqe) (7.1.2)\n",
            "Installing collected packages: biopython, pyemojify, fastqe\n",
            "Successfully installed biopython-1.77 fastqe-0.2.6 pyemojify-0.2.0\n"
          ],
          "name": "stdout"
        }
      ]
    },
    {
      "cell_type": "code",
      "metadata": {
        "trusted": true,
        "id": "L0uKOQLyZ_4h",
        "colab_type": "code",
        "colab": {
          "base_uri": "https://localhost:8080/",
          "height": 34
        },
        "outputId": "c7ab95b2-cdeb-45dd-eec3-a2fce6c8a2f7"
      },
      "source": [
        "%%bash\n",
        "pwd\n",
        "p"
      ],
      "execution_count": null,
      "outputs": [
        {
          "output_type": "stream",
          "text": [
            "/content\n"
          ],
          "name": "stdout"
        }
      ]
    },
    {
      "cell_type": "code",
      "metadata": {
        "id": "IXdEE-kSfFT0",
        "colab_type": "code",
        "colab": {
          "base_uri": "https://localhost:8080/",
          "height": 207
        },
        "outputId": "bd309ae4-724d-4354-beae-49859af03248"
      },
      "source": [
        "!wget \"https://raw.githubusercontent.com/cjwomack/fastqe/master/test/test.fastq\"\n",
        "!wget \"https://raw.githubusercontent.com/cjwomack/fastqe/fasta_display/test/protein.fasta\"\n",
        "!wget \"https://raw.githubusercontent.com/cjwomack/fastqe/fasta_display/training/i_fastqe_2.py\"\n",
        "!wget \"https://raw.githubusercontent.com/cjwomack/fastqe/fasta_display/fastqe/fastqe_map.py\""
      ],
      "execution_count": 2,
      "outputs": [
        {
          "output_type": "stream",
          "text": [
            "--2020-07-21 02:50:34--  https://raw.githubusercontent.com/cjwomack/fastqe/master/test/test.fastq\n",
            "Resolving raw.githubusercontent.com (raw.githubusercontent.com)... 151.101.0.133, 151.101.64.133, 151.101.128.133, ...\n",
            "Connecting to raw.githubusercontent.com (raw.githubusercontent.com)|151.101.0.133|:443... connected.\n",
            "HTTP request sent, awaiting response... 200 OK\n",
            "Length: 2225 (2.2K) [text/plain]\n",
            "Saving to: ‘test.fastq’\n",
            "\n",
            "\rtest.fastq            0%[                    ]       0  --.-KB/s               \rtest.fastq          100%[===================>]   2.17K  --.-KB/s    in 0s      \n",
            "\n",
            "2020-07-21 02:50:34 (41.2 MB/s) - ‘test.fastq’ saved [2225/2225]\n",
            "\n"
          ],
          "name": "stdout"
        }
      ]
    },
    {
      "cell_type": "code",
      "metadata": {
        "id": "QI6SGfPBdjar",
        "colab_type": "code",
        "colab": {
          "base_uri": "https://localhost:8080/",
          "height": 34
        },
        "outputId": "3bc5ae21-2f60-4da1-d3e0-5d322eef1bd5"
      },
      "source": [
        "%ls"
      ],
      "execution_count": null,
      "outputs": [
        {
          "output_type": "stream",
          "text": [
            "fastqe_map.py  i_fastqe.py  \u001b[0m\u001b[01;34m__pycache__\u001b[0m/  \u001b[01;34msample_data\u001b[0m/  test.fastq\n"
          ],
          "name": "stdout"
        }
      ]
    },
    {
      "cell_type": "code",
      "metadata": {
        "id": "mGfu_1vsgXOa",
        "colab_type": "code",
        "colab": {
          "base_uri": "https://localhost:8080/",
          "height": 54
        },
        "outputId": "839f3ffd-782c-4e28-d8cd-f298e9e21b6b"
      },
      "source": [
        "import i_fastqe\n",
        "i_fastqe.run_fastqe([\"test.fastq\"])"
      ],
      "execution_count": null,
      "outputs": [
        {
          "output_type": "stream",
          "text": [
            "test.fastq\tmean\t😘 😆 ☺️ ☺️ 😋 😜 😜 😜 😋 😜 😜 😉 😁 😁 😁 😁 😁 😉 😉 😁 😁 😁 😄 😁 😁 😄 😄 😁 😄 😁 😁 😁 😄 😄 😄 😄 😁 😄 😉 😁 😄 😁 😁 😄 😄 😁 😁 😄 😉 😁 😁 😝 😝 😁 😁 ☺️ 😁 😉 😁 😁 😁 😁 😁 😝 😁 😁 😁 😁 😝 😁 😁 😉 😁 😁 😉 😁 😉 😃 😉 😁 😁 😁 😄 😁 😄 😄 😁 😄 😁 😝 😁 😄 😄 😁 😉 😁 😉 😁 😁 😁 😁 😄 😄 😁 😁 ☺️ 😉 😜 😁 😁 😁 😁 😁 😉 😁 😜 😁 😝 😁 😁 😁 😁 😁 😁 😁 😁 😁 😉 😄 😜 😁 😄 😁 😄 😁 😄 😁 😁 😜 😜 😜 😜 😉 😜 😉 😁 😉 😋 😜 😛 😉 😜 😜 😜 😉 😉 😉 😁 😁 😁 😁 😁 😋 😛 😜 😜 😁 😛 😄 😋 😛 😝 😉 😉 😄 ☺️ 😜 😜 😛 😆 😛 😉 😜 😜 😜 😜 😋 😝 😋 😜 😉 😉 😄 😉 😝 😝 😛 😋 😜 😜 😜 😄 😆 😜 😝 😉 😜 😋 😉 😜 😄 ☺️ ☺️ 😜 😘 😝 😆 😄 😜 😜 😜 😉 😛 😄 ☺️ 😙 😊 😄 😝 😆 😜 😉 😜 😄 😄 ☺️ ☺️ 😜 😉 😜 😉 😆 😆 😛 😙 😃 😙 😘 😝 😙 😡\n"
          ],
          "name": "stdout"
        }
      ]
    },
    {
      "cell_type": "code",
      "metadata": {
        "id": "dsiHv1X4_8EP",
        "colab_type": "code",
        "colab": {}
      },
      "source": [
        "rm fastqe_map.py"
      ],
      "execution_count": null,
      "outputs": []
    },
    {
      "cell_type": "code",
      "metadata": {
        "id": "Ti88RAXXj0MO",
        "colab_type": "code",
        "colab": {
          "base_uri": "https://localhost:8080/",
          "height": 1000
        },
        "outputId": "f4189bfe-0b70-47a3-e10b-87f1330d60cd"
      },
      "source": [
        "import i_fastqe_2\n",
        "i_fastqe_2.run_fastqe([\"protein.fasta\"],scale=True,fasta=True)"
      ],
      "execution_count": 6,
      "outputs": [
        {
          "output_type": "stream",
          "text": [
            "#scale for fastqe\n",
            "#  0 ! 😍\n",
            "#  1 \" 😍\n",
            "#  2 # 😍\n",
            "#  3 $ 😍\n",
            "#  4 % 😍\n",
            "#  5 & 😍\n",
            "#  6 ' 😍\n",
            "#  7 ( 😍\n",
            "#  8 ) 😍\n",
            "#  9 * ✋\n",
            "#  10 + 😍\n",
            "#  11 , 😍\n",
            "#  12 - 〰️\n",
            "#  13 . 😍\n",
            "#  14 / 😍\n",
            "#  15 0 😍\n",
            "#  16 1 😍\n",
            "#  17 2 😍\n",
            "#  18 3 😍\n",
            "#  19 4 😍\n",
            "#  20 5 😍\n",
            "#  21 6 😍\n",
            "#  22 7 😍\n",
            "#  23 8 😍\n",
            "#  24 9 😍\n",
            "#  25 : 😍\n",
            "#  26 ; 😍\n",
            "#  27 < 😍\n",
            "#  28 = 😍\n",
            "#  29 > 😍\n",
            "#  30 ? 😍\n",
            "#  31 @ 😍\n",
            "#  32 A 🍏\n",
            "#  33 B 🍌\n",
            "#  34 C 🍒\n",
            "#  35 D 🍩\n",
            "#  36 E 🐘\n",
            "#  37 F 🍟\n",
            "#  38 G 🍇\n",
            "#  39 H 🍔\n",
            "#  40 I 🍦\n",
            "#  41 J 👖\n",
            "#  42 K 🔑\n",
            "#  43 L 🍋\n",
            "#  44 M 🍄\n",
            "#  45 N 👃\n",
            "#  46 O 🐙\n",
            "#  47 P 🍍\n",
            "#  48 Q 👸\n",
            "#  49 R 🐰\n",
            "#  50 S 🍓\n",
            "#  51 T 🍅\n",
            "#  52 U ☔\n",
            "#  53 V 🌋\n",
            "#  54 W 🍉\n",
            "#  55 X ❌\n",
            "#  56 Y ⛵\n",
            "#  57 Z 😍\n",
            "#  58 [ 😍\n",
            "#  59 \\ 😍\n",
            "#  60 ] 😍\n",
            "#  61 ^ 😍\n",
            "#  62 _ 😍\n",
            "#  63 ` 😍\n",
            "#  64 a 😍\n",
            "#  65 b 😍\n",
            "#  66 c 😍\n",
            "#  67 d 😍\n",
            "#  68 e 😍\n",
            "#  69 f 😍\n",
            "#  70 g 😍\n",
            "#  71 h 😍\n",
            "#  72 i 😍\n",
            "#  73 j 😍\n",
            "#  74 k 😍\n",
            "#  75 l 😍\n",
            "#  76 m 😍\n",
            "#  77 n 😍\n",
            "#  78 o 😍\n",
            "#  79 p 😍\n",
            "#  80 q 😍\n",
            "#  81 r 😍\n",
            "#  82 s 😍\n",
            "#  83 t 😍\n",
            "#  84 u 😍\n",
            "#  85 v 😍\n",
            "#  86 w 😍\n",
            "#  87 x 😍\n",
            "#  88 y 😍\n",
            "#  89 z 😍\n",
            "#  90 { 😍\n",
            "#  91 | 😍\n",
            "#  92 } 😍\n",
            "#  93 ~ 😍\n"
          ],
          "name": "stdout"
        },
        {
          "output_type": "error",
          "ename": "NameError",
          "evalue": "ignored",
          "traceback": [
            "\u001b[0;31m---------------------------------------------------------------------------\u001b[0m",
            "\u001b[0;31mNameError\u001b[0m                                 Traceback (most recent call last)",
            "\u001b[0;32m<ipython-input-6-b676e20ec3e3>\u001b[0m in \u001b[0;36m<module>\u001b[0;34m()\u001b[0m\n\u001b[1;32m      1\u001b[0m \u001b[0;32mimport\u001b[0m \u001b[0mi_fastqe_2\u001b[0m\u001b[0;34m\u001b[0m\u001b[0;34m\u001b[0m\u001b[0m\n\u001b[0;32m----> 2\u001b[0;31m \u001b[0mi_fastqe_2\u001b[0m\u001b[0;34m.\u001b[0m\u001b[0mrun_fastqe\u001b[0m\u001b[0;34m(\u001b[0m\u001b[0;34m[\u001b[0m\u001b[0;34m\"protein.fasta\"\u001b[0m\u001b[0;34m]\u001b[0m\u001b[0;34m,\u001b[0m\u001b[0mscale\u001b[0m\u001b[0;34m=\u001b[0m\u001b[0;32mTrue\u001b[0m\u001b[0;34m,\u001b[0m\u001b[0mfasta\u001b[0m\u001b[0;34m=\u001b[0m\u001b[0;32mTrue\u001b[0m\u001b[0;34m)\u001b[0m\u001b[0;34m\u001b[0m\u001b[0;34m\u001b[0m\u001b[0m\n\u001b[0m",
            "\u001b[0;32m/content/i_fastqe_2.py\u001b[0m in \u001b[0;36mrun_fastqe\u001b[0;34m(fasta_files, minlen, scale, version, mean, custom, noemoji, min, max, output, long, log, bin, fasta)\u001b[0m\n\u001b[1;32m    563\u001b[0m     \u001b[0moptions\u001b[0m \u001b[0;34m=\u001b[0m \u001b[0mNamespace\u001b[0m\u001b[0;34m(\u001b[0m\u001b[0mbin\u001b[0m\u001b[0;34m=\u001b[0m\u001b[0mbin\u001b[0m\u001b[0;34m,\u001b[0m \u001b[0mfasta\u001b[0m\u001b[0;34m=\u001b[0m\u001b[0mfasta\u001b[0m\u001b[0;34m,\u001b[0m \u001b[0mcustom\u001b[0m\u001b[0;34m=\u001b[0m\u001b[0mcustom\u001b[0m\u001b[0;34m,\u001b[0m \u001b[0mfasta_files\u001b[0m\u001b[0;34m=\u001b[0m\u001b[0mfasta_files\u001b[0m\u001b[0;34m,\u001b[0m\u001b[0mlog\u001b[0m\u001b[0;34m=\u001b[0m\u001b[0mlog\u001b[0m\u001b[0;34m,\u001b[0m \u001b[0mlong\u001b[0m\u001b[0;34m=\u001b[0m\u001b[0mlong\u001b[0m\u001b[0;34m,\u001b[0m \u001b[0mmax\u001b[0m\u001b[0;34m=\u001b[0m\u001b[0mmax\u001b[0m\u001b[0;34m,\u001b[0m \u001b[0mmean\u001b[0m\u001b[0;34m=\u001b[0m\u001b[0mmean\u001b[0m\u001b[0;34m,\u001b[0m \u001b[0mmin\u001b[0m\u001b[0;34m=\u001b[0m\u001b[0mmin\u001b[0m\u001b[0;34m,\u001b[0m \u001b[0mminlen\u001b[0m\u001b[0;34m=\u001b[0m\u001b[0mminlen\u001b[0m\u001b[0;34m,\u001b[0m \u001b[0mnoemoji\u001b[0m\u001b[0;34m=\u001b[0m\u001b[0mnoemoji\u001b[0m\u001b[0;34m,\u001b[0m \u001b[0moutput\u001b[0m\u001b[0;34m=\u001b[0m\u001b[0moutput\u001b[0m\u001b[0;34m,\u001b[0m \u001b[0mscale\u001b[0m\u001b[0;34m=\u001b[0m\u001b[0mscale\u001b[0m\u001b[0;34m,\u001b[0m \u001b[0mversion\u001b[0m\u001b[0;34m=\u001b[0m\u001b[0;32mTrue\u001b[0m\u001b[0;34m)\u001b[0m\u001b[0;34m\u001b[0m\u001b[0;34m\u001b[0m\u001b[0m\n\u001b[1;32m    564\u001b[0m \u001b[0;34m\u001b[0m\u001b[0m\n\u001b[0;32m--> 565\u001b[0;31m     \u001b[0mprocess_files\u001b[0m\u001b[0;34m(\u001b[0m\u001b[0moptions\u001b[0m\u001b[0;34m)\u001b[0m\u001b[0;34m\u001b[0m\u001b[0;34m\u001b[0m\u001b[0m\n\u001b[0m\u001b[1;32m    566\u001b[0m \u001b[0;34m\u001b[0m\u001b[0m\n\u001b[1;32m    567\u001b[0m \u001b[0;32mdef\u001b[0m \u001b[0mmain\u001b[0m\u001b[0;34m(\u001b[0m\u001b[0;34m)\u001b[0m\u001b[0;34m:\u001b[0m\u001b[0;34m\u001b[0m\u001b[0;34m\u001b[0m\u001b[0m\n",
            "\u001b[0;32m/content/i_fastqe_2.py\u001b[0m in \u001b[0;36mprocess_files\u001b[0;34m(options)\u001b[0m\n\u001b[1;32m    453\u001b[0m                 \u001b[0;32mwith\u001b[0m \u001b[0mfasta_file\u001b[0m\u001b[0;34m:\u001b[0m\u001b[0;34m\u001b[0m\u001b[0;34m\u001b[0m\u001b[0m\n\u001b[1;32m    454\u001b[0m \u001b[0;34m\u001b[0m\u001b[0m\n\u001b[0;32m--> 455\u001b[0;31m                     \u001b[0mstats\u001b[0m \u001b[0;34m=\u001b[0m \u001b[0mFastaStats\u001b[0m\u001b[0;34m(\u001b[0m\u001b[0;34m)\u001b[0m\u001b[0;34m.\u001b[0m\u001b[0mfrom_file\u001b[0m\u001b[0;34m(\u001b[0m\u001b[0mfasta_file\u001b[0m\u001b[0;34m,\u001b[0m \u001b[0mread_size\u001b[0m\u001b[0;34m,\u001b[0m \u001b[0moptions\u001b[0m\u001b[0;34m.\u001b[0m\u001b[0mminlen\u001b[0m\u001b[0;34m)\u001b[0m\u001b[0;34m\u001b[0m\u001b[0;34m\u001b[0m\u001b[0m\n\u001b[0m\u001b[1;32m    456\u001b[0m                     \u001b[0mprint_output\u001b[0m\u001b[0;34m(\u001b[0m\u001b[0mstats\u001b[0m\u001b[0;34m,\u001b[0m\u001b[0mfasta_filename\u001b[0m\u001b[0;34m,\u001b[0m \u001b[0mmapping_dict\u001b[0m\u001b[0;34m,\u001b[0m \u001b[0mmapping_text\u001b[0m\u001b[0;34m,\u001b[0m \u001b[0mmapping_default\u001b[0m\u001b[0;34m,\u001b[0m \u001b[0moutput_file\u001b[0m\u001b[0;34m,\u001b[0m \u001b[0mOUTPUT_OPTIONS\u001b[0m\u001b[0;34m,\u001b[0m \u001b[0mspacer\u001b[0m \u001b[0;34m=\u001b[0m \u001b[0mmapping_spacer\u001b[0m\u001b[0;34m)\u001b[0m\u001b[0;34m\u001b[0m\u001b[0;34m\u001b[0m\u001b[0m\n\u001b[1;32m    457\u001b[0m \u001b[0;34m\u001b[0m\u001b[0m\n",
            "\u001b[0;32m/content/i_fastqe_2.py\u001b[0m in \u001b[0;36mfrom_file\u001b[0;34m(self, fasta_file, read_size, minlen_threshold)\u001b[0m\n\u001b[1;32m    223\u001b[0m         \u001b[0mnum_seqs\u001b[0m \u001b[0;34m=\u001b[0m \u001b[0mnum_bases\u001b[0m \u001b[0;34m=\u001b[0m \u001b[0;36m0\u001b[0m\u001b[0;34m\u001b[0m\u001b[0;34m\u001b[0m\u001b[0m\n\u001b[1;32m    224\u001b[0m         \u001b[0mmin_len\u001b[0m \u001b[0;34m=\u001b[0m \u001b[0mmax_len\u001b[0m \u001b[0;34m=\u001b[0m \u001b[0;32mNone\u001b[0m\u001b[0;34m\u001b[0m\u001b[0;34m\u001b[0m\u001b[0m\n\u001b[0;32m--> 225\u001b[0;31m         \u001b[0;32mif\u001b[0m \u001b[0moptions\u001b[0m\u001b[0;34m.\u001b[0m\u001b[0mfasta\u001b[0m\u001b[0;34m:\u001b[0m\u001b[0;34m\u001b[0m\u001b[0;34m\u001b[0m\u001b[0m\n\u001b[0m\u001b[1;32m    226\u001b[0m             \u001b[0;32mfor\u001b[0m \u001b[0mseq\u001b[0m \u001b[0;32min\u001b[0m \u001b[0mSeqIO\u001b[0m\u001b[0;34m.\u001b[0m\u001b[0mparse\u001b[0m\u001b[0;34m(\u001b[0m\u001b[0mfasta_file\u001b[0m\u001b[0;34m,\u001b[0m \u001b[0;34m\"fasta\"\u001b[0m\u001b[0;34m)\u001b[0m\u001b[0;34m:\u001b[0m\u001b[0;34m\u001b[0m\u001b[0;34m\u001b[0m\u001b[0m\n\u001b[1;32m    227\u001b[0m                 \u001b[0mself\u001b[0m\u001b[0;34m.\u001b[0m\u001b[0msequence\u001b[0m \u001b[0;34m=\u001b[0m \u001b[0mSeqRecord\u001b[0m\u001b[0;34m(\u001b[0m\u001b[0mSeq\u001b[0m\u001b[0;34m(\u001b[0m\u001b[0mseq\u001b[0m\u001b[0;34m)\u001b[0m\u001b[0;34m)\u001b[0m\u001b[0;34m\u001b[0m\u001b[0;34m\u001b[0m\u001b[0m\n",
            "\u001b[0;31mNameError\u001b[0m: name 'options' is not defined"
          ]
        }
      ]
    },
    {
      "cell_type": "code",
      "metadata": {
        "id": "gkyMfUmghR19",
        "colab_type": "code",
        "colab": {}
      },
      "source": [
        "☺😘☺️"
      ],
      "execution_count": null,
      "outputs": []
    },
    {
      "cell_type": "code",
      "metadata": {
        "id": "RDNgRQafg5tT",
        "colab_type": "code",
        "colab": {
          "base_uri": "https://localhost:8080/",
          "height": 311
        },
        "outputId": "d2eef6e7-d3fc-416b-df38-010be31a2fc7"
      },
      "source": [
        "%%bash\n",
        "fc-list"
      ],
      "execution_count": null,
      "outputs": [
        {
          "output_type": "stream",
          "text": [
            "/usr/share/fonts/truetype/liberation/LiberationSansNarrow-Italic.ttf: Liberation Sans Narrow:style=Italic\n",
            "/usr/share/fonts/truetype/liberation/LiberationSans-Regular.ttf: Liberation Sans:style=Regular\n",
            "/usr/share/fonts/truetype/liberation/LiberationMono-BoldItalic.ttf: Liberation Mono:style=Bold Italic\n",
            "/usr/share/fonts/truetype/liberation/LiberationSerif-Italic.ttf: Liberation Serif:style=Italic\n",
            "/usr/share/fonts/truetype/liberation/LiberationMono-Bold.ttf: Liberation Mono:style=Bold\n",
            "/usr/share/fonts/truetype/liberation/LiberationSansNarrow-Regular.ttf: Liberation Sans Narrow:style=Regular\n",
            "/usr/share/fonts/truetype/liberation/LiberationSerif-Bold.ttf: Liberation Serif:style=Bold\n",
            "/usr/share/fonts/truetype/liberation/LiberationMono-Regular.ttf: Liberation Mono:style=Regular\n",
            "/usr/share/fonts/truetype/liberation/LiberationSans-Italic.ttf: Liberation Sans:style=Italic\n",
            "/usr/share/fonts/truetype/liberation/LiberationSerif-BoldItalic.ttf: Liberation Serif:style=Bold Italic\n",
            "/usr/share/fonts/truetype/liberation/LiberationSansNarrow-BoldItalic.ttf: Liberation Sans Narrow:style=Bold Italic\n",
            "/usr/share/fonts/truetype/liberation/LiberationMono-Italic.ttf: Liberation Mono:style=Italic\n",
            "/usr/share/fonts/truetype/liberation/LiberationSans-BoldItalic.ttf: Liberation Sans:style=Bold Italic\n",
            "/usr/share/fonts/truetype/liberation/LiberationSerif-Regular.ttf: Liberation Serif:style=Regular\n",
            "/usr/share/fonts/truetype/liberation/LiberationSansNarrow-Bold.ttf: Liberation Sans Narrow:style=Bold\n",
            "/usr/share/fonts/truetype/liberation/LiberationSans-Bold.ttf: Liberation Sans:style=Bold\n",
            "/usr/share/fonts/truetype/humor-sans/Humor-Sans.ttf: Humor Sans:style=Regular\n"
          ],
          "name": "stdout"
        }
      ]
    },
    {
      "cell_type": "code",
      "metadata": {
        "id": "jUbxjtsodmzU",
        "colab_type": "code",
        "colab": {}
      },
      "source": [
        "%%bash\n",
        "rm test.fastq*"
      ],
      "execution_count": null,
      "outputs": []
    }
  ]
}