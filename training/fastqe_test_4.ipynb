{
  "nbformat": 4,
  "nbformat_minor": 0,
  "metadata": {
    "kernelspec": {
      "name": "python3",
      "display_name": "Python 3",
      "language": "python"
    },
    "language_info": {
      "name": "python",
      "version": "3.7.6",
      "mimetype": "text/x-python",
      "codemirror_mode": {
        "name": "ipython",
        "version": 3
      },
      "pygments_lexer": "ipython3",
      "nbconvert_exporter": "python",
      "file_extension": ".py"
    },
    "colab": {
      "name": "fastqe_test.ipynb",
      "provenance": []
    }
  },
  "cells": [
    {
      "cell_type": "code",
      "metadata": {
        "id": "d98kMcdjajEC",
        "colab_type": "code",
        "colab": {
          "base_uri": "https://localhost:8080/",
          "height": 204
        },
        "outputId": "d41cb60a-d1a3-4be8-b17e-707def7e2b59"
      },
      "source": [
        "!pip install fastqe"
      ],
      "execution_count": 1,
      "outputs": [
        {
          "output_type": "stream",
          "text": [
            "Collecting fastqe\n",
            "  Downloading https://files.pythonhosted.org/packages/eb/39/3dbd8f59bccfb6197b3e4b34684b1f4f519d928a7d1d73bc32d7b7a78eb9/fastqe-0.2.6-py3-none-any.whl\n",
            "Collecting pyemojify\n",
            "  Downloading https://files.pythonhosted.org/packages/59/f1/c7efdd1d7dcf296796d9e68071d5ec8e5b89cad73c2fbd4a6894284c4955/pyemojify-0.2.0-py2.py3-none-any.whl\n",
            "Collecting biopython>=1.66\n",
            "\u001b[?25l  Downloading https://files.pythonhosted.org/packages/a8/66/134dbd5f885fc71493c61b6cf04c9ea08082da28da5ed07709b02857cbd0/biopython-1.77-cp36-cp36m-manylinux1_x86_64.whl (2.3MB)\n",
            "\u001b[K     |████████████████████████████████| 2.3MB 7.5MB/s \n",
            "\u001b[?25hRequirement already satisfied: click>=4.1 in /usr/local/lib/python3.6/dist-packages (from pyemojify->fastqe) (7.1.2)\n",
            "Requirement already satisfied: numpy in /usr/local/lib/python3.6/dist-packages (from biopython>=1.66->fastqe) (1.18.5)\n",
            "Installing collected packages: pyemojify, biopython, fastqe\n",
            "Successfully installed biopython-1.77 fastqe-0.2.6 pyemojify-0.2.0\n"
          ],
          "name": "stdout"
        }
      ]
    },
    {
      "cell_type": "code",
      "metadata": {
        "trusted": true,
        "id": "L0uKOQLyZ_4h",
        "colab_type": "code",
        "colab": {
          "base_uri": "https://localhost:8080/",
          "height": 34
        },
        "outputId": "c7ab95b2-cdeb-45dd-eec3-a2fce6c8a2f7"
      },
      "source": [
        "%%bash\n",
        "pwd\n",
        "p"
      ],
      "execution_count": null,
      "outputs": [
        {
          "output_type": "stream",
          "text": [
            "/content\n"
          ],
          "name": "stdout"
        }
      ]
    },
    {
      "cell_type": "code",
      "metadata": {
        "id": "5-_7nyZEfuF-",
        "colab_type": "code",
        "colab": {}
      },
      "source": [
        "import fastqe"
      ],
      "execution_count": null,
      "outputs": []
    },
    {
      "cell_type": "code",
      "metadata": {
        "id": "6cEiigMPfxOS",
        "colab_type": "code",
        "colab": {}
      },
      "source": [
        ""
      ],
      "execution_count": null,
      "outputs": []
    },
    {
      "cell_type": "code",
      "metadata": {
        "id": "flLzLIRadRP7",
        "colab_type": "code",
        "colab": {
          "base_uri": "https://localhost:8080/",
          "height": 121
        },
        "outputId": "547d93db-4643-4f30-fda9-bf956d4fce38"
      },
      "source": [
        "!wget \"https://raw.githubusercontent.com/cjwomack/fastqe/blob/69a00068be8125e0ca7fbda72dc2bf03b010ef59/test/test.fastq\""
      ],
      "execution_count": null,
      "outputs": [
        {
          "output_type": "stream",
          "text": [
            "--2020-07-20 09:07:15--  https://raw.githubusercontent.com/cjwomack/fastqe/blob/69a00068be8125e0ca7fbda72dc2bf03b010ef59/test/test.fastq\n",
            "Resolving raw.githubusercontent.com (raw.githubusercontent.com)... 151.101.0.133, 151.101.64.133, 151.101.128.133, ...\n",
            "Connecting to raw.githubusercontent.com (raw.githubusercontent.com)|151.101.0.133|:443... connected.\n",
            "HTTP request sent, awaiting response... 404 Not Found\n",
            "2020-07-20 09:07:15 ERROR 404: Not Found.\n",
            "\n"
          ],
          "name": "stdout"
        }
      ]
    },
    {
      "cell_type": "code",
      "metadata": {
        "id": "IXdEE-kSfFT0",
        "colab_type": "code",
        "colab": {
          "base_uri": "https://localhost:8080/",
          "height": 204
        },
        "outputId": "43513154-d03f-4e53-b989-914d9b70ac3f"
      },
      "source": [
        "!wget \"https://raw.githubusercontent.com/cjwomack/fastqe/master/test/test.fastq\""
      ],
      "execution_count": 2,
      "outputs": [
        {
          "output_type": "stream",
          "text": [
            "--2020-07-20 16:17:09--  https://raw.githubusercontent.com/cjwomack/fastqe/master/test/test.fastq\n",
            "Resolving raw.githubusercontent.com (raw.githubusercontent.com)... 151.101.0.133, 151.101.64.133, 151.101.128.133, ...\n",
            "Connecting to raw.githubusercontent.com (raw.githubusercontent.com)|151.101.0.133|:443... connected.\n",
            "HTTP request sent, awaiting response... 200 OK\n",
            "Length: 2225 (2.2K) [text/plain]\n",
            "Saving to: ‘test.fastq’\n",
            "\n",
            "\rtest.fastq            0%[                    ]       0  --.-KB/s               \rtest.fastq          100%[===================>]   2.17K  --.-KB/s    in 0s      \n",
            "\n",
            "2020-07-20 16:17:09 (38.6 MB/s) - ‘test.fastq’ saved [2225/2225]\n",
            "\n"
          ],
          "name": "stdout"
        }
      ]
    },
    {
      "cell_type": "code",
      "metadata": {
        "id": "7uVoJ_q0_Xck",
        "colab_type": "code",
        "colab": {
          "base_uri": "https://localhost:8080/",
          "height": 204
        },
        "outputId": "61001633-1321-4c09-da46-5dc1d464319a"
      },
      "source": [
        "!wget \"https://raw.githubusercontent.com/cjwomack/fastqe/fasta_display/test/protein.fasta\""
      ],
      "execution_count": 3,
      "outputs": [
        {
          "output_type": "stream",
          "text": [
            "--2020-07-20 16:17:12--  https://raw.githubusercontent.com/cjwomack/fastqe/fasta_display/test/protein.fasta\n",
            "Resolving raw.githubusercontent.com (raw.githubusercontent.com)... 151.101.0.133, 151.101.64.133, 151.101.128.133, ...\n",
            "Connecting to raw.githubusercontent.com (raw.githubusercontent.com)|151.101.0.133|:443... connected.\n",
            "HTTP request sent, awaiting response... 200 OK\n",
            "Length: 2363 (2.3K) [text/plain]\n",
            "Saving to: ‘protein.fasta’\n",
            "\n",
            "\rprotein.fasta         0%[                    ]       0  --.-KB/s               \rprotein.fasta       100%[===================>]   2.31K  --.-KB/s    in 0s      \n",
            "\n",
            "2020-07-20 16:17:12 (45.7 MB/s) - ‘protein.fasta’ saved [2363/2363]\n",
            "\n"
          ],
          "name": "stdout"
        }
      ]
    },
    {
      "cell_type": "code",
      "metadata": {
        "id": "a1uvXtcMgIKT",
        "colab_type": "code",
        "colab": {
          "base_uri": "https://localhost:8080/",
          "height": 204
        },
        "outputId": "854bdb59-8cb3-4dd1-99c4-c8a17ddd6849"
      },
      "source": [
        "!wget \"https://raw.githubusercontent.com/cjwomack/fastqe/fasta_display/training/i_fastqe_2.py\""
      ],
      "execution_count": 4,
      "outputs": [
        {
          "output_type": "stream",
          "text": [
            "--2020-07-20 16:17:15--  https://raw.githubusercontent.com/cjwomack/fastqe/fasta_display/training/i_fastqe_2.py\n",
            "Resolving raw.githubusercontent.com (raw.githubusercontent.com)... 151.101.0.133, 151.101.64.133, 151.101.128.133, ...\n",
            "Connecting to raw.githubusercontent.com (raw.githubusercontent.com)|151.101.0.133|:443... connected.\n",
            "HTTP request sent, awaiting response... 200 OK\n",
            "Length: 20598 (20K) [text/plain]\n",
            "Saving to: ‘i_fastqe_2.py’\n",
            "\n",
            "\ri_fastqe_2.py         0%[                    ]       0  --.-KB/s               \ri_fastqe_2.py       100%[===================>]  20.12K  --.-KB/s    in 0.007s  \n",
            "\n",
            "2020-07-20 16:17:15 (2.64 MB/s) - ‘i_fastqe_2.py’ saved [20598/20598]\n",
            "\n"
          ],
          "name": "stdout"
        }
      ]
    },
    {
      "cell_type": "code",
      "metadata": {
        "id": "IfQ-dR1ogoIB",
        "colab_type": "code",
        "colab": {
          "base_uri": "https://localhost:8080/",
          "height": 204
        },
        "outputId": "6856c8b4-80bd-4bd9-82b2-6c109cbc41c9"
      },
      "source": [
        "!wget \"https://raw.githubusercontent.com/cjwomack/fastqe/fasta_display/fastqe/fastqe_map.py\""
      ],
      "execution_count": 10,
      "outputs": [
        {
          "output_type": "stream",
          "text": [
            "--2020-07-20 16:19:07--  https://raw.githubusercontent.com/cjwomack/fastqe/fasta_display/fastqe/fastqe_map.py\n",
            "Resolving raw.githubusercontent.com (raw.githubusercontent.com)... 151.101.0.133, 151.101.64.133, 151.101.128.133, ...\n",
            "Connecting to raw.githubusercontent.com (raw.githubusercontent.com)|151.101.0.133|:443... connected.\n",
            "HTTP request sent, awaiting response... 200 OK\n",
            "Length: 3894 (3.8K) [text/plain]\n",
            "Saving to: ‘fastqe_map.py’\n",
            "\n",
            "\rfastqe_map.py         0%[                    ]       0  --.-KB/s               \rfastqe_map.py       100%[===================>]   3.80K  --.-KB/s    in 0s      \n",
            "\n",
            "2020-07-20 16:19:07 (58.0 MB/s) - ‘fastqe_map.py’ saved [3894/3894]\n",
            "\n"
          ],
          "name": "stdout"
        }
      ]
    },
    {
      "cell_type": "code",
      "metadata": {
        "id": "QI6SGfPBdjar",
        "colab_type": "code",
        "colab": {
          "base_uri": "https://localhost:8080/",
          "height": 34
        },
        "outputId": "3bc5ae21-2f60-4da1-d3e0-5d322eef1bd5"
      },
      "source": [
        "%ls"
      ],
      "execution_count": null,
      "outputs": [
        {
          "output_type": "stream",
          "text": [
            "fastqe_map.py  i_fastqe.py  \u001b[0m\u001b[01;34m__pycache__\u001b[0m/  \u001b[01;34msample_data\u001b[0m/  test.fastq\n"
          ],
          "name": "stdout"
        }
      ]
    },
    {
      "cell_type": "code",
      "metadata": {
        "id": "mGfu_1vsgXOa",
        "colab_type": "code",
        "colab": {
          "base_uri": "https://localhost:8080/",
          "height": 54
        },
        "outputId": "839f3ffd-782c-4e28-d8cd-f298e9e21b6b"
      },
      "source": [
        "import i_fastqe\n",
        "i_fastqe.run_fastqe([\"test.fastq\"])"
      ],
      "execution_count": null,
      "outputs": [
        {
          "output_type": "stream",
          "text": [
            "test.fastq\tmean\t😘 😆 ☺️ ☺️ 😋 😜 😜 😜 😋 😜 😜 😉 😁 😁 😁 😁 😁 😉 😉 😁 😁 😁 😄 😁 😁 😄 😄 😁 😄 😁 😁 😁 😄 😄 😄 😄 😁 😄 😉 😁 😄 😁 😁 😄 😄 😁 😁 😄 😉 😁 😁 😝 😝 😁 😁 ☺️ 😁 😉 😁 😁 😁 😁 😁 😝 😁 😁 😁 😁 😝 😁 😁 😉 😁 😁 😉 😁 😉 😃 😉 😁 😁 😁 😄 😁 😄 😄 😁 😄 😁 😝 😁 😄 😄 😁 😉 😁 😉 😁 😁 😁 😁 😄 😄 😁 😁 ☺️ 😉 😜 😁 😁 😁 😁 😁 😉 😁 😜 😁 😝 😁 😁 😁 😁 😁 😁 😁 😁 😁 😉 😄 😜 😁 😄 😁 😄 😁 😄 😁 😁 😜 😜 😜 😜 😉 😜 😉 😁 😉 😋 😜 😛 😉 😜 😜 😜 😉 😉 😉 😁 😁 😁 😁 😁 😋 😛 😜 😜 😁 😛 😄 😋 😛 😝 😉 😉 😄 ☺️ 😜 😜 😛 😆 😛 😉 😜 😜 😜 😜 😋 😝 😋 😜 😉 😉 😄 😉 😝 😝 😛 😋 😜 😜 😜 😄 😆 😜 😝 😉 😜 😋 😉 😜 😄 ☺️ ☺️ 😜 😘 😝 😆 😄 😜 😜 😜 😉 😛 😄 ☺️ 😙 😊 😄 😝 😆 😜 😉 😜 😄 😄 ☺️ ☺️ 😜 😉 😜 😉 😆 😆 😛 😙 😃 😙 😘 😝 😙 😡\n"
          ],
          "name": "stdout"
        }
      ]
    },
    {
      "cell_type": "code",
      "metadata": {
        "id": "dsiHv1X4_8EP",
        "colab_type": "code",
        "colab": {}
      },
      "source": [
        "rm fastqe_map.py"
      ],
      "execution_count": 9,
      "outputs": []
    },
    {
      "cell_type": "code",
      "metadata": {
        "id": "Ti88RAXXj0MO",
        "colab_type": "code",
        "colab": {
          "base_uri": "https://localhost:8080/",
          "height": 129
        },
        "outputId": "74c36ddc-59f4-4de5-cc6f-47741050448e"
      },
      "source": [
        "import i_fastqe_2\n",
        "i_fastqe_2.run_fastqe([\"protein.fasta\"],scale=True)"
      ],
      "execution_count": 11,
      "outputs": [
        {
          "output_type": "error",
          "ename": "SyntaxError",
          "evalue": "ignored",
          "traceback": [
            "\u001b[0;36m  File \u001b[0;32m\"/content/fastqe_map.py\"\u001b[0;36m, line \u001b[0;32m27\u001b[0m\n\u001b[0;31m    'P': ':pineapple:,\u001b[0m\n\u001b[0m                      ^\u001b[0m\n\u001b[0;31mSyntaxError\u001b[0m\u001b[0;31m:\u001b[0m EOL while scanning string literal\n"
          ]
        }
      ]
    },
    {
      "cell_type": "code",
      "metadata": {
        "id": "gkyMfUmghR19",
        "colab_type": "code",
        "colab": {}
      },
      "source": [
        "☺😘☺️"
      ],
      "execution_count": null,
      "outputs": []
    },
    {
      "cell_type": "code",
      "metadata": {
        "id": "RDNgRQafg5tT",
        "colab_type": "code",
        "colab": {
          "base_uri": "https://localhost:8080/",
          "height": 311
        },
        "outputId": "d2eef6e7-d3fc-416b-df38-010be31a2fc7"
      },
      "source": [
        "%%bash\n",
        "fc-list"
      ],
      "execution_count": null,
      "outputs": [
        {
          "output_type": "stream",
          "text": [
            "/usr/share/fonts/truetype/liberation/LiberationSansNarrow-Italic.ttf: Liberation Sans Narrow:style=Italic\n",
            "/usr/share/fonts/truetype/liberation/LiberationSans-Regular.ttf: Liberation Sans:style=Regular\n",
            "/usr/share/fonts/truetype/liberation/LiberationMono-BoldItalic.ttf: Liberation Mono:style=Bold Italic\n",
            "/usr/share/fonts/truetype/liberation/LiberationSerif-Italic.ttf: Liberation Serif:style=Italic\n",
            "/usr/share/fonts/truetype/liberation/LiberationMono-Bold.ttf: Liberation Mono:style=Bold\n",
            "/usr/share/fonts/truetype/liberation/LiberationSansNarrow-Regular.ttf: Liberation Sans Narrow:style=Regular\n",
            "/usr/share/fonts/truetype/liberation/LiberationSerif-Bold.ttf: Liberation Serif:style=Bold\n",
            "/usr/share/fonts/truetype/liberation/LiberationMono-Regular.ttf: Liberation Mono:style=Regular\n",
            "/usr/share/fonts/truetype/liberation/LiberationSans-Italic.ttf: Liberation Sans:style=Italic\n",
            "/usr/share/fonts/truetype/liberation/LiberationSerif-BoldItalic.ttf: Liberation Serif:style=Bold Italic\n",
            "/usr/share/fonts/truetype/liberation/LiberationSansNarrow-BoldItalic.ttf: Liberation Sans Narrow:style=Bold Italic\n",
            "/usr/share/fonts/truetype/liberation/LiberationMono-Italic.ttf: Liberation Mono:style=Italic\n",
            "/usr/share/fonts/truetype/liberation/LiberationSans-BoldItalic.ttf: Liberation Sans:style=Bold Italic\n",
            "/usr/share/fonts/truetype/liberation/LiberationSerif-Regular.ttf: Liberation Serif:style=Regular\n",
            "/usr/share/fonts/truetype/liberation/LiberationSansNarrow-Bold.ttf: Liberation Sans Narrow:style=Bold\n",
            "/usr/share/fonts/truetype/liberation/LiberationSans-Bold.ttf: Liberation Sans:style=Bold\n",
            "/usr/share/fonts/truetype/humor-sans/Humor-Sans.ttf: Humor Sans:style=Regular\n"
          ],
          "name": "stdout"
        }
      ]
    },
    {
      "cell_type": "code",
      "metadata": {
        "id": "jUbxjtsodmzU",
        "colab_type": "code",
        "colab": {}
      },
      "source": [
        "%%bash\n",
        "rm test.fastq*"
      ],
      "execution_count": null,
      "outputs": []
    }
  ]
}