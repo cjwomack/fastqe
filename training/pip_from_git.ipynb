{
  "nbformat": 4,
  "nbformat_minor": 0,
  "metadata": {
    "colab": {
      "name": "Untitled1.ipynb",
      "provenance": [],
      "authorship_tag": "ABX9TyMuUXwp8umN7dMoVLmOf8BT",
      "include_colab_link": true
    },
    "kernelspec": {
      "name": "python3",
      "display_name": "Python 3"
    }
  },
  "cells": [
    {
      "cell_type": "markdown",
      "metadata": {
        "id": "view-in-github",
        "colab_type": "text"
      },
      "source": [
        "<a href=\"https://colab.research.google.com/github/cjwomack/fastqe/blob/to_merge/training/pip_from_git.ipynb\" target=\"_parent\"><img src=\"https://colab.research.google.com/assets/colab-badge.svg\" alt=\"Open In Colab\"/></a>"
      ]
    },
    {
      "cell_type": "code",
      "metadata": {
        "id": "cqRh3jVOutGC",
        "colab_type": "code",
        "colab": {}
      },
      "source": [
        ""
      ],
      "execution_count": null,
      "outputs": []
    },
    {
      "cell_type": "code",
      "metadata": {
        "id": "L9RYpYLDuwO3",
        "colab_type": "code",
        "colab": {
          "base_uri": "https://localhost:8080/",
          "height": 306
        },
        "outputId": "2f0f6230-5c5e-4340-9f70-5949f37a55a6"
      },
      "source": [
        "!pip install https://github.com/cjwomack/fastqe/archive/to_merge.tar.gz"
      ],
      "execution_count": 1,
      "outputs": [
        {
          "output_type": "stream",
          "text": [
            "Collecting https://github.com/cjwomack/fastqe/archive/to_merge.tar.gz\n",
            "\u001b[?25l  Downloading https://github.com/cjwomack/fastqe/archive/to_merge.tar.gz\n",
            "\u001b[K     / 1.7MB 4.2MB/s\n",
            "\u001b[?25hCollecting biopython>=1.66\n",
            "\u001b[?25l  Downloading https://files.pythonhosted.org/packages/a8/66/134dbd5f885fc71493c61b6cf04c9ea08082da28da5ed07709b02857cbd0/biopython-1.77-cp36-cp36m-manylinux1_x86_64.whl (2.3MB)\n",
            "\u001b[K     |████████████████████████████████| 2.3MB 2.9MB/s \n",
            "\u001b[?25hCollecting pyemojify\n",
            "  Downloading https://files.pythonhosted.org/packages/59/f1/c7efdd1d7dcf296796d9e68071d5ec8e5b89cad73c2fbd4a6894284c4955/pyemojify-0.2.0-py2.py3-none-any.whl\n",
            "Requirement already satisfied: numpy in /usr/local/lib/python3.6/dist-packages (from biopython>=1.66->fastqe==0.2.6) (1.18.5)\n",
            "Requirement already satisfied: click>=4.1 in /usr/local/lib/python3.6/dist-packages (from pyemojify->fastqe==0.2.6) (7.1.2)\n",
            "Building wheels for collected packages: fastqe\n",
            "  Building wheel for fastqe (setup.py) ... \u001b[?25l\u001b[?25hdone\n",
            "  Created wheel for fastqe: filename=fastqe-0.2.6-cp36-none-any.whl size=10171 sha256=b46059e6aae82edce7e64fbf8599fdce268bc4aa1d669e8f90cadef9bef10798\n",
            "  Stored in directory: /tmp/pip-ephem-wheel-cache-21v6jt1q/wheels/41/ea/c3/7412721c857056055b2c5c700f73ca7a261f088ae6458ae699\n",
            "Successfully built fastqe\n",
            "Installing collected packages: biopython, pyemojify, fastqe\n",
            "Successfully installed biopython-1.77 fastqe-0.2.6 pyemojify-0.2.0\n"
          ],
          "name": "stdout"
        }
      ]
    },
    {
      "cell_type": "code",
      "metadata": {
        "id": "zOBsI9Dru6JF",
        "colab_type": "code",
        "colab": {
          "base_uri": "https://localhost:8080/",
          "height": 391
        },
        "outputId": "899f0978-d7a3-4b17-a56b-cbffd626e0e3"
      },
      "source": [
        "!wget \"https://raw.githubusercontent.com/cjwomack/fastqe/master/test/test.fastq\"\n",
        "!wget \"https://raw.githubusercontent.com/cjwomack/fastqe/fasta_display/test/protein.fasta\""
      ],
      "execution_count": 2,
      "outputs": [
        {
          "output_type": "stream",
          "text": [
            "--2020-07-21 14:17:41--  https://raw.githubusercontent.com/cjwomack/fastqe/master/test/test.fastq\n",
            "Resolving raw.githubusercontent.com (raw.githubusercontent.com)... 151.101.0.133, 151.101.64.133, 151.101.128.133, ...\n",
            "Connecting to raw.githubusercontent.com (raw.githubusercontent.com)|151.101.0.133|:443... connected.\n",
            "HTTP request sent, awaiting response... 200 OK\n",
            "Length: 2225 (2.2K) [text/plain]\n",
            "Saving to: ‘test.fastq’\n",
            "\n",
            "\rtest.fastq            0%[                    ]       0  --.-KB/s               \rtest.fastq          100%[===================>]   2.17K  --.-KB/s    in 0s      \n",
            "\n",
            "2020-07-21 14:17:41 (44.3 MB/s) - ‘test.fastq’ saved [2225/2225]\n",
            "\n",
            "--2020-07-21 14:17:42--  https://raw.githubusercontent.com/cjwomack/fastqe/fasta_display/test/protein.fasta\n",
            "Resolving raw.githubusercontent.com (raw.githubusercontent.com)... 151.101.0.133, 151.101.64.133, 151.101.128.133, ...\n",
            "Connecting to raw.githubusercontent.com (raw.githubusercontent.com)|151.101.0.133|:443... connected.\n",
            "HTTP request sent, awaiting response... 200 OK\n",
            "Length: 2363 (2.3K) [text/plain]\n",
            "Saving to: ‘protein.fasta’\n",
            "\n",
            "protein.fasta       100%[===================>]   2.31K  --.-KB/s    in 0s      \n",
            "\n",
            "2020-07-21 14:17:42 (45.0 MB/s) - ‘protein.fasta’ saved [2363/2363]\n",
            "\n"
          ],
          "name": "stdout"
        }
      ]
    },
    {
      "cell_type": "code",
      "metadata": {
        "id": "W_v7sHb8vLsW",
        "colab_type": "code",
        "colab": {
          "base_uri": "https://localhost:8080/",
          "height": 180
        },
        "outputId": "aa91162b-bc8e-45dd-c7e4-89d6be1104d7"
      },
      "source": [
        "import fastqe\n",
        "fastqe.run_fastqe([\"protein.fasta\"],scale=True,fasta=True)"
      ],
      "execution_count": 3,
      "outputs": [
        {
          "output_type": "error",
          "ename": "AttributeError",
          "evalue": "ignored",
          "traceback": [
            "\u001b[0;31m---------------------------------------------------------------------------\u001b[0m",
            "\u001b[0;31mAttributeError\u001b[0m                            Traceback (most recent call last)",
            "\u001b[0;32m<ipython-input-3-490e016fb59d>\u001b[0m in \u001b[0;36m<module>\u001b[0;34m()\u001b[0m\n\u001b[1;32m      1\u001b[0m \u001b[0;32mimport\u001b[0m \u001b[0mfastqe\u001b[0m\u001b[0;34m\u001b[0m\u001b[0;34m\u001b[0m\u001b[0m\n\u001b[0;32m----> 2\u001b[0;31m \u001b[0mfastqe\u001b[0m\u001b[0;34m.\u001b[0m\u001b[0mrun_fastqe\u001b[0m\u001b[0;34m(\u001b[0m\u001b[0;34m[\u001b[0m\u001b[0;34m\"protein.fasta\"\u001b[0m\u001b[0;34m]\u001b[0m\u001b[0;34m,\u001b[0m\u001b[0mscale\u001b[0m\u001b[0;34m=\u001b[0m\u001b[0;32mTrue\u001b[0m\u001b[0;34m,\u001b[0m\u001b[0mfasta\u001b[0m\u001b[0;34m=\u001b[0m\u001b[0;32mTrue\u001b[0m\u001b[0;34m)\u001b[0m\u001b[0;34m\u001b[0m\u001b[0;34m\u001b[0m\u001b[0m\n\u001b[0m",
            "\u001b[0;31mAttributeError\u001b[0m: module 'fastqe' has no attribute 'run_fastqe'"
          ]
        }
      ]
    }
  ]
}