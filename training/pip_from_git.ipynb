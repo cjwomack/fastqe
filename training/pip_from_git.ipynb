{
 "cells": [
  {
   "cell_type": "markdown",
   "metadata": {
    "colab_type": "text",
    "id": "view-in-github"
   },
   "source": [
    "<table><tr><td>",
    "<a href=\"https://colab.research.google.com/github/cjwomack/fastqe/blob/to_merge/training/pip_from_git.ipynb\" target=\"_parent\"><img src=\"https://colab.research.google.com/assets/colab-badge.svg\" alt=\"Open In Colab\"/></a></td><td><a href=\"https://mybinder.org/v2/gh/cjwomack/fastqe/to_merge/?filepath=training%2Fpip_from_git.ipynb\" target=\"_parent\"><img src=\"https://mybinder.org/badge_logo.svg\" alt=\"Open in mybinder.org\"></a></td></table>"
   ]
  },
  {
   "cell_type": "code",
   "execution_count": null,
   "metadata": {
    "colab": {},
    "colab_type": "code",
    "id": "cqRh3jVOutGC"
   },
   "outputs": [],
   "source": []
  },
  {
   "cell_type": "code",
   "execution_count": 1,
   "metadata": {
    "colab": {
     "base_uri": "https://localhost:8080/",
     "height": 306
    },
    "colab_type": "code",
    "id": "L9RYpYLDuwO3",
    "outputId": "d12c3a57-3cdb-43a7-d37c-01e1d13c0bc0"
   },
   "outputs": [
    {
     "name": "stdout",
     "output_type": "stream",
     "text": [
      "Collecting https://github.com/cjwomack/fastqe/archive/to_merge.tar.gz\n",
      "\u001b[?25l  Downloading https://github.com/cjwomack/fastqe/archive/to_merge.tar.gz\n",
      "\u001b[K     / 1.7MB 287kB/s\n",
      "\u001b[?25hCollecting biopython>=1.66\n",
      "\u001b[?25l  Downloading https://files.pythonhosted.org/packages/a8/66/134dbd5f885fc71493c61b6cf04c9ea08082da28da5ed07709b02857cbd0/biopython-1.77-cp36-cp36m-manylinux1_x86_64.whl (2.3MB)\n",
      "\u001b[K     |████████████████████████████████| 2.3MB 2.7MB/s \n",
      "\u001b[?25hCollecting pyemojify\n",
      "  Downloading https://files.pythonhosted.org/packages/59/f1/c7efdd1d7dcf296796d9e68071d5ec8e5b89cad73c2fbd4a6894284c4955/pyemojify-0.2.0-py2.py3-none-any.whl\n",
      "Requirement already satisfied: numpy in /usr/local/lib/python3.6/dist-packages (from biopython>=1.66->fastqe==0.2.6) (1.18.5)\n",
      "Requirement already satisfied: click>=4.1 in /usr/local/lib/python3.6/dist-packages (from pyemojify->fastqe==0.2.6) (7.1.2)\n",
      "Building wheels for collected packages: fastqe\n",
      "  Building wheel for fastqe (setup.py) ... \u001b[?25l\u001b[?25hdone\n",
      "  Created wheel for fastqe: filename=fastqe-0.2.6-cp36-none-any.whl size=10179 sha256=b6f57dd850477e651f00142663804b4be95826d95e0bdf4c6ee21b73b2aa0fd3\n",
      "  Stored in directory: /tmp/pip-ephem-wheel-cache-uel3jcfh/wheels/41/ea/c3/7412721c857056055b2c5c700f73ca7a261f088ae6458ae699\n",
      "Successfully built fastqe\n",
      "Installing collected packages: biopython, pyemojify, fastqe\n",
      "Successfully installed biopython-1.77 fastqe-0.2.6 pyemojify-0.2.0\n"
     ]
    }
   ],
   "source": [
    "!pip install https://github.com/cjwomack/fastqe/archive/to_merge.tar.gz"
   ]
  },
  {
   "cell_type": "code",
   "execution_count": 1,
   "metadata": {
    "colab": {
     "base_uri": "https://localhost:8080/",
     "height": 391
    },
    "colab_type": "code",
    "id": "zOBsI9Dru6JF",
    "outputId": "8ebef171-e7ff-479d-818d-24d43674666c"
   },
   "outputs": [
    {
     "name": "stdout",
     "output_type": "stream",
     "text": [
      "--2020-07-21 14:53:11--  https://raw.githubusercontent.com/cjwomack/fastqe/master/test/test.fastq\n",
      "Resolving raw.githubusercontent.com (raw.githubusercontent.com)... 151.101.64.133, 151.101.192.133, 151.101.0.133, ...\n",
      "Connecting to raw.githubusercontent.com (raw.githubusercontent.com)|151.101.64.133|:443... connected.\n",
      "HTTP request sent, awaiting response... 200 OK\n",
      "Length: 2225 (2.2K) [text/plain]\n",
      "Saving to: ‘test.fastq’\n",
      "\n",
      "test.fastq          100%[===================>]   2.17K  --.-KB/s    in 0s      \n",
      "\n",
      "2020-07-21 14:53:12 (26.5 MB/s) - ‘test.fastq’ saved [2225/2225]\n",
      "\n",
      "--2020-07-21 14:53:12--  https://raw.githubusercontent.com/cjwomack/fastqe/fasta_display/test/protein.fasta\n",
      "Resolving raw.githubusercontent.com (raw.githubusercontent.com)... 151.101.192.133, 151.101.128.133, 151.101.64.133, ...\n",
      "Connecting to raw.githubusercontent.com (raw.githubusercontent.com)|151.101.192.133|:443... connected.\n",
      "HTTP request sent, awaiting response... 200 OK\n",
      "Length: 2363 (2.3K) [text/plain]\n",
      "Saving to: ‘protein.fasta’\n",
      "\n",
      "protein.fasta       100%[===================>]   2.31K  --.-KB/s    in 0s      \n",
      "\n",
      "2020-07-21 14:53:12 (26.5 MB/s) - ‘protein.fasta’ saved [2363/2363]\n",
      "\n"
     ]
    }
   ],
   "source": [
    "!wget \"https://raw.githubusercontent.com/cjwomack/fastqe/master/test/test.fastq\"\n",
    "!wget \"https://raw.githubusercontent.com/cjwomack/fastqe/fasta_display/test/protein.fasta\""
   ]
  },
  {
   "cell_type": "code",
   "execution_count": 9,
   "metadata": {
    "colab": {
     "base_uri": "https://localhost:8080/",
     "height": 547
    },
    "colab_type": "code",
    "id": "W_v7sHb8vLsW",
    "outputId": "1cf4b024-6d96-444b-e935-7d8b2eae8df4"
   },
   "outputs": [
    {
     "name": "stdout",
     "output_type": "stream",
     "text": [
      "#scale for fasta\n",
      "#  A 🍏\n",
      "#  B 🍌\n",
      "#  C 🍒\n",
      "#  D 🍩\n",
      "#  E 🐘\n",
      "#  F 🍟\n",
      "#  G 🍇\n",
      "#  H 🍔\n",
      "#  I 🍦\n",
      "#  J 👖\n",
      "#  K 🔑\n",
      "#  L 🍋\n",
      "#  M 🍄\n",
      "#  N 👃\n",
      "#  O 🐙\n",
      "#  P 🍍\n",
      "#  Q 👸\n",
      "#  R 🐰\n",
      "#  S 🍓\n",
      "#  T 🍅\n",
      "#  U ☔\n",
      "#  V 🌋\n",
      "#  W 🍉\n",
      "#  X ❌\n",
      "#  Y ⛵\n",
      "#  * ✋\n",
      "#  - 〰️\n",
      "protein.fasta\tHSBGPG\t🍇 🍇 🍒 🍏 🍇 🍏 🍅 🍅 🍒 🍒 🍒 🍒 🍒 🍅 🍏 🍇 🍏 🍒 🍒 🍒 🍇 🍒 🍒 🍒 🍇 🍒 🍏 🍒 🍒 🍏 🍅 🍇 🍇 🍅 🍒 🍏 🍇 🍇 🍒 🍏 🍅 🍇 🍒 🍒 🍒 🍒 🍅 🍒 🍒 🍅 🍒 🍏 🍅 🍒 🍇 🍒 🍅 🍇 🍇 🍇 🍒 🍏 🍒 🍏 🍇 🍒 🍒 🍒 🍏 🍇 🍏 🍇 🍇 🍇 🍅 🍏 🍅 🍏 🍏 🍏 🍒 🍏 🍇 🍅 🍇 🍒 🍅 🍇 🍇 🍏 🍇 🍇 🍒 🍅 🍇 🍇 🍒 🍇 🍇 🍇 🍇 🍒 🍏 🍇 🍇 🍒 🍒 🍏 🍇 🍒 🍅 🍇 🍏 🍇 🍅 🍒 🍒 🍅 🍇 🍏 🍇 🍒 🍏 🍇 🍒 🍏 🍇 🍒 🍒 🍒 🍏 🍇 🍒 🍇 🍒 🍏 🍇 🍒 🍒 🍏 🍒 🍒 🍇 🍏 🍇 🍏 🍒 🍏 🍒 🍒 🍏 🍅 🍇 🍏 🍇 🍏 🍇 🍒 🍒 🍒 🍅 🍒 🍏 🍒 🍏 🍒 🍅 🍒 🍒 🍅 🍒 🍇 🍒 🍒 🍒 🍅 🍏 🍅 🍅 🍇 🍇 🍒 🍒 🍒 🍅 🍇 🍇 🍒 🍒 🍇 🍒 🍏 🍒 🍅 🍅 🍅 🍇 🍒 🍏 🍅 🍒 🍇 🍒 🍅 🍇 🍇 🍒 🍒 🍏 🍇 🍇 🍒 🍏 🍇 🍇 🍅 🍇 🍏 🍇 🍅 🍇 🍒 🍒 🍒 🍒 🍒 🍏 🍒 🍒 🍅 🍒 🍒 🍒 🍒 🍅 🍒 🍏 🍇 🍇 🍒 🍒 🍇 🍒 🍏 🍅 🍅 🍇 🍒 🍏 🍇 🍅 🍇 🍇 🍇 🍇 🍇 🍒 🍅 🍇 🍏 🍇 🍏 🍇 🍇 🍏 🍇 🍇 🍏 🍏 🍇 🍒 🍏 🍒 🍒 🍏 🍅 🍇 🍇 🍒 🍒 🍒 🍏 🍒 🍒 🍅 🍒 🍅 🍅 🍒 🍅 🍒 🍏 🍒 🍒 🍒 🍒 🍅 🍅 🍅 🍇 🍇 🍒 🍅 🍇 🍇 🍒 🍏 🍇 🍅 🍒 🍒 🍒 🍅 🍅 🍅 🍇 🍒 🍏 🍇 🍅 🍒 🍅 🍏 🍏 🍒 🍒 🍏 🍒 🍒 🍅 🍅 🍇 🍅 🍅 🍇 🍒 🍏 🍇 🍇 🍒 🍅 🍒 🍏 🍏 🍅 🍒 🍒 🍏 🍅 🍅 🍅 🍇 🍒 🍒 🍒 🍒 🍏 🍇 🍒 🍅 🍒 🍅 🍇 🍒 🍒 🍒 🍅 🍅 🍇 🍒 🍏 🍇 🍏 🍇 🍇 🍇 🍏 🍇 🍏 🍇 🍇 🍏 🍇 🍇 🍇 🍏 🍏 🍇 🍏 🍇 🍒 🍏 🍏 🍇 🍒 🍅 🍇 🍒 🍒 🍒 🍇 🍏 🍇 🍏 🍒 🍇 🍒 🍏 🍇 🍇 🍇 🍇 🍏 🍏 🍇 🍇 🍏 🍇 🍇 🍏 🍅 🍇 🍏 🍇 🍇 🍇 🍒 🍒 🍒 🍅 🍇 🍇 🍇 🍇 🍏 🍅 🍇 🍏 🍇 🍒 🍅 🍇 🍇 🍇 🍇 🍅 🍇 🍏 🍏 🍒 🍒 🍏 🍇 🍇 🍒 🍅 🍒 🍒 🍒 🍅 🍅 🍅 🍒 🍒 🍅 🍅 🍅 🍇 🍒 🍏 🍇 🍇 🍅 🍇 🍒 🍇 🍏 🍏 🍇 🍒 🍒 🍒 🍏 🍇 🍒 🍇 🍇 🍅 🍇 🍒 🍏 🍇 🍏 🍇 🍅 🍒 🍒 🍏 🍇 🍒 🍏 🍏 🍏 🍇 🍇 🍅 🍇 🍒 🍏 🍇 🍇 🍅 🍏 🍅 🍇 🍏 🍇 🍇 🍏 🍅 🍇 🍇 🍏 🍒 🍒 🍅 🍇 🍏 🍅 🍇 🍇 🍇 🍅 🍅 🍒 🍒 🍅 🍇 🍇 🍏 🍒 🍒 🍒 🍅 🍒 🍒 🍒 🍒 🍅 🍒 🍅 🍒 🍏 🍒 🍒 🍒 🍅 🍇 🍇 🍅 🍒 🍒 🍒 🍅 🍒 🍏 🍇 🍅 🍒 🍅 🍒 🍏 🍅 🍅 🍒 🍒 🍒 🍒 🍒 🍏 🍒 🍅 🍒 🍒 🍅 🍇 🍒 🍒 🍏 🍒 🍒 🍅 🍒 🍒 🍅 🍇 🍅 🍒 🍅 🍇 🍇 🍒 🍒 🍏 🍅 🍒 🍏 🍇 🍇 🍏 🍏 🍇 🍇 🍒 🍒 🍏 🍇 🍒 🍒 🍅 🍇 🍒 🍅 🍒 🍒 🍒 🍒 🍏 🍒 🍒 🍅 🍇 🍏 🍅 🍒 🍒 🍅 🍒 🍒 🍒 🍏 🍏 🍏 🍒 🍒 🍒 🍏 🍇 🍏 🍇 🍒 🍒 🍏 🍒 🍒 🍅 🍇 🍏 🍅 🍇 🍒 🍒 🍅 🍇 🍒 🍒 🍒 🍒 🍅 🍒 🍅 🍇 🍒 🍅 🍒 🍒 🍏 🍒 🍏 🍇 🍒 🍒 🍅 🍅 🍅 🍇 🍅 🍇 🍅 🍒 🍒 🍏 🍏 🍇 🍒 🍏 🍇 🍇 🍏 🍇 🍇 🍇 🍒 🍏 🍇 🍒 🍇 🍏 🍇 🍇 🍅 🍏 🍇 🍅 🍇 🍏 🍏 🍇 🍏 🍇 🍏 🍒 🍒 🍒 🍏 🍇 🍇 🍒 🍇 🍒 🍅 🍏 🍒 🍒 🍅 🍇 🍅 🍏 🍅 🍒 🍏 🍏 🍅 🍇 🍇 🍒 🍅 🍇 🍇 🍇 🍇 🍅 🍇 🍏 🍇 🍏 🍇 🍏 🍏 🍏 🍏 🍇 🍇 🍒 🍏 🍇 🍏 🍇 🍒 🍅 🍇 🍇 🍇 🍒 🍒 🍏 🍏 🍇 🍇 🍒 🍒 🍒 🍅 🍇 🍒 🍒 🍅 🍒 🍅 🍒 🍒 🍇 🍇 🍇 🍏 🍅 🍇 🍇 🍅 🍒 🍅 🍇 🍅 🍇 🍇 🍇 🍇 🍇 🍏 🍇 🍒 🍅 🍇 🍒 🍏 🍇 🍒 🍏 🍇 🍇 🍇 🍏 🍇 🍅 🍇 🍇 🍒 🍒 🍅 🍒 🍅 🍒 🍅 🍇 🍇 🍇 🍅 🍅 🍇 🍅 🍇 🍇 🍅 🍇 🍇 🍇 🍇 🍇 🍅 🍏 🍒 🍏 🍇 🍇 🍒 🍏 🍇 🍒 🍒 🍅 🍇 🍒 🍒 🍒 🍅 🍇 🍇 🍅 🍇 🍇 🍇 🍒 🍏 🍒 🍒 🍒 🍅 🍇 🍇 🍏 🍇 🍒 🍒 🍒 🍒 🍏 🍅 🍇 🍅 🍇 🍅 🍏 🍇 🍇 🍇 🍏 🍇 🍏 🍇 🍇 🍏 🍇 🍇 🍇 🍏 🍅 🍇 🍇 🍇 🍒 🍏 🍅 🍅 🍅 🍅 🍇 🍒 🍏 🍒 🍇 🍇 🍇 🍇 🍇 🍒 🍅 🍇 🍏 🍅 🍇 🍒 🍒 🍏 🍒 🍒 🍏 🍒 🍇 🍅 🍒 🍇 🍇 🍇 🍅 🍇 🍅 🍒 🍅 🍒 🍏 🍇 🍏 🍇 🍒 🍒 🍒 🍒 🍏 🍇 🍅 🍒 🍒 🍒 🍒 🍅 🍏 🍒 🍒 🍒 🍇 🍇 🍏 🍅 🍒 🍒 🍒 🍒 🍅 🍇 🍇 🍏 🍇 🍒 🍒 🍒 🍏 🍇 🍇 🍏 🍇 🍇 🍇 🍏 🍇 🍇 🍅 🍇 🍅 🍇 🍅 🍇 🍏 🍇 🍒 🍅 🍒 🍏 🍏 🍅 🍒 🍒 🍇 🍇 🍏 🍒 🍅 🍇 🍅 🍇 🍏 🍒 🍇 🍏 🍇 🍅 🍅 🍇 🍇 🍒 🍅 🍇 🍏 🍒 🍒 🍏 🍒 🍏 🍅 🍒 🍇 🍇 🍒 🍅 🍅 🍅 🍒 🍏 🍇 🍇 🍏 🍇 🍇 🍒 🍒 🍅 🍏 🍅 🍒 🍇 🍇 🍒 🍇 🍒 🍅 🍅 🍒 🍅 🍏 🍒 🍇 🍇 🍒 🍒 🍒 🍇 🍇 🍅 🍒 🍅 🍏 🍇 🍇 🍇 🍅 🍇 🍅 🍒 🍇 🍒 🍅 🍒 🍅 🍇 🍒 🍅 🍇 🍇 🍒 🍒 🍅 🍇 🍇 🍒 🍒 🍇 🍇 🍒 🍏 🍏 🍒 🍒 🍒 🍒 🍏 🍇 🍅 🍅 🍒 🍅 🍇 🍒 🍅 🍒 🍒 🍅 🍒 🍅 🍒 🍒 🍏 🍇 🍇 🍒 🍏 🍒 🍒 🍒 🍅 🍅 🍒 🍅 🍅 🍅 🍒 🍒 🍅 🍒 🍅 🍅 🍒 🍒 🍒 🍒 🍅 🍅 🍇 🍒 🍒 🍒 🍅 🍅 🍇 🍒 🍒 🍒 🍅 🍇 🍏 🍒 🍒 🍅 🍒 🍒 🍒 🍏 🍇 🍒 🍒 🍒 🍅 🍏 🍅 🍇 🍇 🍏 🍅 🍇 🍅 🍇 🍇 🍇 🍇 🍅 🍒 🍒 🍒 🍒 🍏 🍅 🍒 🍏 🍅 🍒 🍒 🍒 🍏 🍇 🍒 🍅 🍇 🍒 🍅 🍒 🍒 🍒 🍏 🍏 🍏 🍅 🍏 🍏 🍏 🍒 🍅 🍒 🍒 🍏 🍇 🍏 🍏 🍇\n",
      "protein.fasta\tHSGLTH1\t🍒 🍒 🍏 🍒 🍅 🍇 🍒 🍏 🍒 🍅 🍒 🍏 🍒 🍒 🍇 🍒 🍏 🍒 🍒 🍒 🍇 🍇 🍒 🍒 🍏 🍏 🍅 🍅 🍅 🍅 🍅 🍇 🍅 🍇 🍅 🍅 🍅 🍅 🍅 🍏 🍇 🍅 🍏 🍇 🍏 🍇 🍏 🍒 🍅 🍏 🍏 🍏 🍅 🍏 🍒 🍒 🍏 🍅 🍏 🍅 🍏 🍇 🍅 🍇 🍏 🍏 🍒 🍏 🍒 🍒 🍅 🍏 🍏 🍇 🍏 🍒 🍇 🍇 🍇 🍇 🍇 🍇 🍒 🍒 🍅 🍅 🍇 🍇 🍏 🍅 🍒 🍒 🍏 🍇 🍇 🍇 🍒 🍇 🍏 🍅 🍅 🍒 🍏 🍇 🍏 🍇 🍇 🍇 🍒 🍒 🍒 🍒 🍇 🍇 🍅 🍒 🍇 🍇 🍏 🍇 🍒 🍅 🍇 🍅 🍒 🍇 🍇 🍏 🍇 🍏 🍅 🍅 🍇 🍏 🍇 🍒 🍇 🍒 🍇 🍒 🍇 🍒 🍇 🍇 🍅 🍒 🍒 🍒 🍇 🍇 🍇 🍏 🍅 🍒 🍅 🍒 🍒 🍇 🍏 🍒 🍇 🍏 🍇 🍇 🍒 🍒 🍒 🍅 🍇 🍇 🍏 🍒 🍒 🍒 🍒 🍒 🍇 🍇 🍇 🍒 🍇 🍇 🍒 🍇 🍏 🍏 🍇 🍒 🍅 🍇 🍒 🍇 🍇 🍒 🍇 🍒 🍇 🍇 🍒 🍇 🍒 🍒 🍒 🍒 🍒 🍅 🍇 🍇 🍏 🍇 🍇 🍒 🍒 🍇 🍒 🍇 🍇 🍇 🍏 🍒 🍒 🍒 🍒 🍅 🍇 🍇 🍒 🍒 🍇 🍇 🍅 🍒 🍒 🍇 🍒 🍇 🍒 🍏 🍇 🍇 🍒 🍇 🍒 🍏 🍇 🍒 🍇 🍇 🍇 🍇 🍅 🍒 🍇 🍒 🍏 🍇 🍇 🍇 🍒 🍇 🍒 🍇 🍇 🍒 🍇 🍇 🍇 🍅 🍅 🍒 🍒 🍏 🍇 🍒 🍇 🍒 🍇 🍇 🍇 🍇 🍏 🍅 🍇 🍇 🍒 🍇 🍒 🍅 🍇 🍅 🍒 🍒 🍇 🍒 🍇 🍇 🍏 🍇 🍇 🍏 🍒 🍒 🍇 🍇 🍇 🍒 🍇 🍒 🍅 🍇 🍇 🍅 🍇 🍒 🍇 🍒 🍇 🍒 🍒 🍒 🍅 🍇 🍅 🍇 🍇 🍏 🍏 🍇 🍏 🍏 🍇 🍒 🍅 🍇 🍇 🍇 🍒 🍏 🍇 🍒 🍏 🍏 🍒 🍇 🍅 🍒 🍇 🍇 🍒 🍇 🍅 🍒 🍅 🍏 🍒 🍏 🍒 🍇 🍏 🍒 🍏 🍇 🍏 🍇 🍇 🍒 🍒 🍒 🍅 🍇 🍇 🍏 🍏 🍏 🍇 🍇 🍅 🍇 🍒 🍇 🍇 🍒 🍏 🍇 🍇 🍒 🍅 🍇 🍇 🍇 🍒 🍇 🍒 🍒 🍒 🍒 🍒 🍇 🍒 🍒 🍒 🍒 🍒 🍏 🍇 🍇 🍇 🍇 🍒 🍒 🍒 🍅 🍒 🍒 🍒 🍅 🍒 🍒 🍒 🍒 🍏 🍏 🍇 🍒 🍒 🍒 🍒 🍒 🍒 🍇 🍇 🍏 🍒 🍇 🍒 🍇 🍒 🍒 🍅 🍒 🍏 🍒 🍒 🍒 🍏 🍒 🍇 🍅 🍅 🍒 🍒 🍅 🍒 🍅 🍒 🍇 🍒 🍏 🍇 🍇 🍏 🍒 🍒 🍅 🍅 🍒 🍒 🍅 🍇 🍇 🍒 🍅 🍅 🍅 🍒 🍒 🍒 🍒 🍇 🍒 🍒 🍏 🍒 🍇 🍏 🍏 🍇 🍏 🍒 🍒 🍅 🍏 🍒 🍅 🍅 🍒 🍅 🍒 🍒 🍒 🍏 🍒 🍒 🍅 🍇 🍇 🍏 🍒 🍒 🍅 🍇 🍏 🍇 🍒 🍒 🍒 🍒 🍇 🍇 🍒 🍅 🍒 🍒 🍅 🍒 🍏 🍒 🍏 🍏 🍇 🍅 🍒 🍏 🍇 🍏 🍇 🍒 🍒 🍒 🍏 🍒 🍇 🍇 🍒 🍒 🍏 🍇 🍏 🍏 🍇 🍇 🍅 🍇 🍇 🍒 🍇 🍇 🍏 🍒 🍇 🍒 🍇 🍒 🍅 🍇 🍏 🍇 🍒 🍒 🍅 🍒 🍇 🍒 🍒 🍇 🍅 🍇 🍇 🍏 🍇 🍒 🍇 🍒 🍒 🍅 🍇 🍇 🍏 🍒 🍇 🍏 🍒 🍒 🍅 🍏 🍒 🍒 🍒 🍒 🍏 🍒 🍇 🍒 🍇 🍒 🍅 🍇 🍅 🍒 🍒 🍇 🍒 🍇 🍒 🍅 🍇 🍏 🍇 🍒 🍒 🍏 🍒 🍒 🍅 🍇 🍒 🍏 🍒 🍇 🍒 🍇 🍅 🍇 🍒 🍒 🍏 🍇 🍒 🍅 🍇 🍒 🍇 🍏 🍇 🍅 🍇 🍇 🍏 🍒 🍒 🍒 🍇 🍇 🍒 🍒 🍏 🍇 🍒 🍅 🍅 🍒 🍒 🍏 🍇 🍇 🍅 🍇 🍏 🍇 🍒 🍇 🍇 🍒 🍅 🍇 🍒 🍒 🍇 🍅 🍇 🍒 🍅 🍇 🍇 🍇 🍒 🍒 🍒 🍒 🍅 🍇 🍅 🍒 🍒 🍒 🍒 🍇 🍇 🍇 🍏 🍇 🍇 🍇 🍒 🍒 🍒 🍒 🍇 🍇 🍒 🍇 🍇 🍇 🍇 🍅 🍇 🍇 🍇 🍅 🍇 🍒 🍇 🍇 🍇 🍇 🍇 🍇 🍒 🍇 🍅 🍇 🍒 🍇 🍇 🍇 🍇 🍒 🍇 🍇 🍇 🍅 🍇 🍒 🍏 🍇 🍇 🍒 🍇 🍏 🍇 🍅 🍇 🍏 🍇 🍒 🍒 🍅 🍅 🍇 🍏 🍇 🍒 🍇 🍒 🍅 🍒 🍇 🍒 🍒 🍇 🍒 🍏 🍇 🍒 🍅 🍒 🍒 🍅 🍇 🍇 🍇 🍒 🍒 🍏 🍒 🍅 🍇 🍒 🍒 🍅 🍇 🍒 🍅 🍇 🍇 🍅 🍏 🍏 🍒 🍒 🍒 🍅 🍒 🍇 🍒 🍒 🍒 🍇 🍇 🍒 🍏 🍒 🍅 🍏 🍒 🍒 🍒 🍒 🍇 🍇 🍏 🍇 🍏 🍒 🍅 🍅 🍒 🍏 🍇 🍒 🍒 🍒 🍒 🍇 🍒 🍇 🍒 🍅 🍇 🍒 🍏 🍇 🍇 🍒 🍇 🍅 🍒 🍇 🍒 🍅 🍇 🍇 🍏 🍒 🍏 🍏 🍇 🍅 🍅 🍒 🍒 🍅 🍇 🍏 🍇 🍒 🍒 🍏 🍒 🍇 🍅 🍅 🍏 🍅 🍒 🍅 🍒 🍇 🍇 🍒 🍇 🍒 🍅 🍇 🍇 🍅 🍅 🍅 🍒 🍒 🍇 🍏 🍇 🍅 🍏 🍒 🍒 🍇 🍒 🍅 🍇 🍏 🍏 🍒 🍅 🍇 🍅 🍇 🍇 🍇 🍅 🍇 🍇 🍇 🍅 🍇 🍇 🍒 🍒 🍇 🍒 🍇 🍇 🍇 🍏 🍅 🍒 🍒 🍒 🍒 🍏 🍇 🍇 🍒 🍇 🍏 🍒 🍒 🍅 🍅 🍒 🍒 🍒 🍒 🍇 🍅 🍇 🍅 🍅 🍅 🍇 🍏 🍇 🍅 🍏 🍏 🍏 🍇 🍒 🍒 🍅 🍒 🍅 🍒 🍒 🍒 🍏 🍇 🍇 🍏 🍇 🍒 🍏 🍇 🍒 🍒 🍅 🍅 🍒 🍅 🍅 🍇 🍒 🍒 🍇 🍅 🍇 🍒 🍅 🍒 🍅 🍒 🍅 🍒 🍇 🍏 🍇 🍇 🍅 🍒 🍏 🍇 🍇 🍏 🍒 🍇 🍒 🍇 🍏 🍇 🍏 🍇 🍇 🍏 🍏 🍇 🍇 🍒 🍇 🍒\n"
     ]
    }
   ],
   "source": [
    "from fastqe import fastqe\n",
    "fastqe.run_fastqe([\"protein.fasta\"],scale=True,fasta=True,version=True)"
   ]
  },
  {
   "cell_type": "code",
   "execution_count": 8,
   "metadata": {
    "colab": {
     "base_uri": "https://localhost:8080/",
     "height": 34
    },
    "colab_type": "code",
    "id": "ag37LoAOwyS6",
    "outputId": "4656de51-3c96-461e-ab26-fd03dbf26d74"
   },
   "outputs": [
    {
     "name": "stdout",
     "output_type": "stream",
     "text": [
      "fastqe 0.2.6\n"
     ]
    }
   ],
   "source": [
    "%%bash\n",
    "fastqe protein.fasta --scale --fasta --version"
   ]
  },
  {
   "cell_type": "code",
   "execution_count": 4,
   "metadata": {
    "colab": {
     "base_uri": "https://localhost:8080/",
     "height": 238
    },
    "colab_type": "code",
    "id": "9UwpxkqowfO-",
    "outputId": "198e128a-068f-4f48-a426-041269da67c3"
   },
   "outputs": [
    {
     "name": "stdout",
     "output_type": "stream",
     "text": [
      "Help on package fastqe:\n",
      "\n",
      "NAME\n",
      "    fastqe\n",
      "\n",
      "PACKAGE CONTENTS\n",
      "    fastqe\n",
      "    fastqe_map\n",
      "\n",
      "FILE\n",
      "    /usr/local/lib/python3.6/dist-packages/fastqe/__init__.py\n",
      "\n",
      "\n"
     ]
    }
   ],
   "source": [
    "help(fastqe)\n"
   ]
  }
 ],
 "metadata": {
  "colab": {
   "authorship_tag": "ABX9TyNuL0TT+ZwLrIKJ8xbohllv",
   "include_colab_link": true,
   "name": "Untitled1.ipynb",
   "provenance": []
  },
  "kernelspec": {
   "display_name": "Python 3",
   "language": "python",
   "name": "python3"
  },
  "language_info": {
   "codemirror_mode": {
    "name": "ipython",
    "version": 3
   },
   "file_extension": ".py",
   "mimetype": "text/x-python",
   "name": "python",
   "nbconvert_exporter": "python",
   "pygments_lexer": "ipython3",
   "version": "3.7.6"
  }
 },
 "nbformat": 4,
 "nbformat_minor": 1
}
