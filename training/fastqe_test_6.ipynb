{
  "nbformat": 4,
  "nbformat_minor": 0,
  "metadata": {
    "kernelspec": {
      "name": "python3",
      "display_name": "Python 3",
      "language": "python"
    },
    "language_info": {
      "name": "python",
      "version": "3.7.6",
      "mimetype": "text/x-python",
      "codemirror_mode": {
        "name": "ipython",
        "version": 3
      },
      "pygments_lexer": "ipython3",
      "nbconvert_exporter": "python",
      "file_extension": ".py"
    },
    "colab": {
      "name": "fastqe_test.ipynb",
      "provenance": []
    }
  },
  "cells": [
    {
      "cell_type": "code",
      "metadata": {
        "id": "d98kMcdjajEC",
        "colab_type": "code",
        "colab": {
          "base_uri": "https://localhost:8080/",
          "height": 204
        },
        "outputId": "6ca014b3-2b9a-4692-bf06-82a46e9a95bd"
      },
      "source": [
        "!pip install fastqe"
      ],
      "execution_count": 1,
      "outputs": [
        {
          "output_type": "stream",
          "text": [
            "Collecting fastqe\n",
            "  Downloading https://files.pythonhosted.org/packages/eb/39/3dbd8f59bccfb6197b3e4b34684b1f4f519d928a7d1d73bc32d7b7a78eb9/fastqe-0.2.6-py3-none-any.whl\n",
            "Collecting biopython>=1.66\n",
            "\u001b[?25l  Downloading https://files.pythonhosted.org/packages/a8/66/134dbd5f885fc71493c61b6cf04c9ea08082da28da5ed07709b02857cbd0/biopython-1.77-cp36-cp36m-manylinux1_x86_64.whl (2.3MB)\n",
            "\r\u001b[K     |▏                               | 10kB 13.7MB/s eta 0:00:01\r\u001b[K     |▎                               | 20kB 17.9MB/s eta 0:00:01\r\u001b[K     |▍                               | 30kB 10.1MB/s eta 0:00:01\r\u001b[K     |▋                               | 40kB 11.9MB/s eta 0:00:01\r\u001b[K     |▊                               | 51kB 12.8MB/s eta 0:00:01\r\u001b[K     |▉                               | 61kB 12.1MB/s eta 0:00:01\r\u001b[K     |█                               | 71kB 11.8MB/s eta 0:00:01\r\u001b[K     |█▏                              | 81kB 11.0MB/s eta 0:00:01\r\u001b[K     |█▎                              | 92kB 11.0MB/s eta 0:00:01\r\u001b[K     |█▌                              | 102kB 10.9MB/s eta 0:00:01\r\u001b[K     |█▋                              | 112kB 10.9MB/s eta 0:00:01\r\u001b[K     |█▊                              | 122kB 10.9MB/s eta 0:00:01\r\u001b[K     |█▉                              | 133kB 10.9MB/s eta 0:00:01\r\u001b[K     |██                              | 143kB 10.9MB/s eta 0:00:01\r\u001b[K     |██▏                             | 153kB 10.9MB/s eta 0:00:01\r\u001b[K     |██▎                             | 163kB 10.9MB/s eta 0:00:01\r\u001b[K     |██▌                             | 174kB 10.9MB/s eta 0:00:01\r\u001b[K     |██▋                             | 184kB 10.9MB/s eta 0:00:01\r\u001b[K     |██▊                             | 194kB 10.9MB/s eta 0:00:01\r\u001b[K     |███                             | 204kB 10.9MB/s eta 0:00:01\r\u001b[K     |███                             | 215kB 10.9MB/s eta 0:00:01\r\u001b[K     |███▏                            | 225kB 10.9MB/s eta 0:00:01\r\u001b[K     |███▎                            | 235kB 10.9MB/s eta 0:00:01\r\u001b[K     |███▌                            | 245kB 10.9MB/s eta 0:00:01\r\u001b[K     |███▋                            | 256kB 10.9MB/s eta 0:00:01\r\u001b[K     |███▊                            | 266kB 10.9MB/s eta 0:00:01\r\u001b[K     |████                            | 276kB 10.9MB/s eta 0:00:01\r\u001b[K     |████                            | 286kB 10.9MB/s eta 0:00:01\r\u001b[K     |████▏                           | 296kB 10.9MB/s eta 0:00:01\r\u001b[K     |████▍                           | 307kB 10.9MB/s eta 0:00:01\r\u001b[K     |████▌                           | 317kB 10.9MB/s eta 0:00:01\r\u001b[K     |████▋                           | 327kB 10.9MB/s eta 0:00:01\r\u001b[K     |████▊                           | 337kB 10.9MB/s eta 0:00:01\r\u001b[K     |█████                           | 348kB 10.9MB/s eta 0:00:01\r\u001b[K     |█████                           | 358kB 10.9MB/s eta 0:00:01\r\u001b[K     |█████▏                          | 368kB 10.9MB/s eta 0:00:01\r\u001b[K     |█████▍                          | 378kB 10.9MB/s eta 0:00:01\r\u001b[K     |█████▌                          | 389kB 10.9MB/s eta 0:00:01\r\u001b[K     |█████▋                          | 399kB 10.9MB/s eta 0:00:01\r\u001b[K     |█████▉                          | 409kB 10.9MB/s eta 0:00:01\r\u001b[K     |██████                          | 419kB 10.9MB/s eta 0:00:01\r\u001b[K     |██████                          | 430kB 10.9MB/s eta 0:00:01\r\u001b[K     |██████▏                         | 440kB 10.9MB/s eta 0:00:01\r\u001b[K     |██████▍                         | 450kB 10.9MB/s eta 0:00:01\r\u001b[K     |██████▌                         | 460kB 10.9MB/s eta 0:00:01\r\u001b[K     |██████▋                         | 471kB 10.9MB/s eta 0:00:01\r\u001b[K     |██████▉                         | 481kB 10.9MB/s eta 0:00:01\r\u001b[K     |███████                         | 491kB 10.9MB/s eta 0:00:01\r\u001b[K     |███████                         | 501kB 10.9MB/s eta 0:00:01\r\u001b[K     |███████▎                        | 512kB 10.9MB/s eta 0:00:01\r\u001b[K     |███████▍                        | 522kB 10.9MB/s eta 0:00:01\r\u001b[K     |███████▌                        | 532kB 10.9MB/s eta 0:00:01\r\u001b[K     |███████▋                        | 542kB 10.9MB/s eta 0:00:01\r\u001b[K     |███████▉                        | 552kB 10.9MB/s eta 0:00:01\r\u001b[K     |████████                        | 563kB 10.9MB/s eta 0:00:01\r\u001b[K     |████████                        | 573kB 10.9MB/s eta 0:00:01\r\u001b[K     |████████▎                       | 583kB 10.9MB/s eta 0:00:01\r\u001b[K     |████████▍                       | 593kB 10.9MB/s eta 0:00:01\r\u001b[K     |████████▌                       | 604kB 10.9MB/s eta 0:00:01\r\u001b[K     |████████▊                       | 614kB 10.9MB/s eta 0:00:01\r\u001b[K     |████████▉                       | 624kB 10.9MB/s eta 0:00:01\r\u001b[K     |█████████                       | 634kB 10.9MB/s eta 0:00:01\r\u001b[K     |█████████                       | 645kB 10.9MB/s eta 0:00:01\r\u001b[K     |█████████▎                      | 655kB 10.9MB/s eta 0:00:01\r\u001b[K     |█████████▍                      | 665kB 10.9MB/s eta 0:00:01\r\u001b[K     |█████████▌                      | 675kB 10.9MB/s eta 0:00:01\r\u001b[K     |█████████▊                      | 686kB 10.9MB/s eta 0:00:01\r\u001b[K     |█████████▉                      | 696kB 10.9MB/s eta 0:00:01\r\u001b[K     |██████████                      | 706kB 10.9MB/s eta 0:00:01\r\u001b[K     |██████████▏                     | 716kB 10.9MB/s eta 0:00:01\r\u001b[K     |██████████▎                     | 727kB 10.9MB/s eta 0:00:01\r\u001b[K     |██████████▍                     | 737kB 10.9MB/s eta 0:00:01\r\u001b[K     |██████████▌                     | 747kB 10.9MB/s eta 0:00:01\r\u001b[K     |██████████▊                     | 757kB 10.9MB/s eta 0:00:01\r\u001b[K     |██████████▉                     | 768kB 10.9MB/s eta 0:00:01\r\u001b[K     |███████████                     | 778kB 10.9MB/s eta 0:00:01\r\u001b[K     |███████████▏                    | 788kB 10.9MB/s eta 0:00:01\r\u001b[K     |███████████▎                    | 798kB 10.9MB/s eta 0:00:01\r\u001b[K     |███████████▍                    | 808kB 10.9MB/s eta 0:00:01\r\u001b[K     |███████████▋                    | 819kB 10.9MB/s eta 0:00:01\r\u001b[K     |███████████▊                    | 829kB 10.9MB/s eta 0:00:01\r\u001b[K     |███████████▉                    | 839kB 10.9MB/s eta 0:00:01\r\u001b[K     |████████████                    | 849kB 10.9MB/s eta 0:00:01\r\u001b[K     |████████████▏                   | 860kB 10.9MB/s eta 0:00:01\r\u001b[K     |████████████▎                   | 870kB 10.9MB/s eta 0:00:01\r\u001b[K     |████████████▍                   | 880kB 10.9MB/s eta 0:00:01\r\u001b[K     |████████████▋                   | 890kB 10.9MB/s eta 0:00:01\r\u001b[K     |████████████▊                   | 901kB 10.9MB/s eta 0:00:01\r\u001b[K     |████████████▉                   | 911kB 10.9MB/s eta 0:00:01\r\u001b[K     |█████████████                   | 921kB 10.9MB/s eta 0:00:01\r\u001b[K     |█████████████▏                  | 931kB 10.9MB/s eta 0:00:01\r\u001b[K     |█████████████▎                  | 942kB 10.9MB/s eta 0:00:01\r\u001b[K     |█████████████▍                  | 952kB 10.9MB/s eta 0:00:01\r\u001b[K     |█████████████▋                  | 962kB 10.9MB/s eta 0:00:01\r\u001b[K     |█████████████▊                  | 972kB 10.9MB/s eta 0:00:01\r\u001b[K     |█████████████▉                  | 983kB 10.9MB/s eta 0:00:01\r\u001b[K     |██████████████                  | 993kB 10.9MB/s eta 0:00:01\r\u001b[K     |██████████████▏                 | 1.0MB 10.9MB/s eta 0:00:01\r\u001b[K     |██████████████▎                 | 1.0MB 10.9MB/s eta 0:00:01\r\u001b[K     |██████████████▌                 | 1.0MB 10.9MB/s eta 0:00:01\r\u001b[K     |██████████████▋                 | 1.0MB 10.9MB/s eta 0:00:01\r\u001b[K     |██████████████▊                 | 1.0MB 10.9MB/s eta 0:00:01\r\u001b[K     |██████████████▉                 | 1.1MB 10.9MB/s eta 0:00:01\r\u001b[K     |███████████████                 | 1.1MB 10.9MB/s eta 0:00:01\r\u001b[K     |███████████████▏                | 1.1MB 10.9MB/s eta 0:00:01\r\u001b[K     |███████████████▎                | 1.1MB 10.9MB/s eta 0:00:01\r\u001b[K     |███████████████▌                | 1.1MB 10.9MB/s eta 0:00:01\r\u001b[K     |███████████████▋                | 1.1MB 10.9MB/s eta 0:00:01\r\u001b[K     |███████████████▊                | 1.1MB 10.9MB/s eta 0:00:01\r\u001b[K     |████████████████                | 1.1MB 10.9MB/s eta 0:00:01\r\u001b[K     |████████████████                | 1.1MB 10.9MB/s eta 0:00:01\r\u001b[K     |████████████████▏               | 1.1MB 10.9MB/s eta 0:00:01\r\u001b[K     |████████████████▎               | 1.2MB 10.9MB/s eta 0:00:01\r\u001b[K     |████████████████▌               | 1.2MB 10.9MB/s eta 0:00:01\r\u001b[K     |████████████████▋               | 1.2MB 10.9MB/s eta 0:00:01\r\u001b[K     |████████████████▊               | 1.2MB 10.9MB/s eta 0:00:01\r\u001b[K     |█████████████████               | 1.2MB 10.9MB/s eta 0:00:01\r\u001b[K     |█████████████████               | 1.2MB 10.9MB/s eta 0:00:01\r\u001b[K     |█████████████████▏              | 1.2MB 10.9MB/s eta 0:00:01\r\u001b[K     |█████████████████▍              | 1.2MB 10.9MB/s eta 0:00:01\r\u001b[K     |█████████████████▌              | 1.2MB 10.9MB/s eta 0:00:01\r\u001b[K     |█████████████████▋              | 1.2MB 10.9MB/s eta 0:00:01\r\u001b[K     |█████████████████▊              | 1.3MB 10.9MB/s eta 0:00:01\r\u001b[K     |██████████████████              | 1.3MB 10.9MB/s eta 0:00:01\r\u001b[K     |██████████████████              | 1.3MB 10.9MB/s eta 0:00:01\r\u001b[K     |██████████████████▏             | 1.3MB 10.9MB/s eta 0:00:01\r\u001b[K     |██████████████████▍             | 1.3MB 10.9MB/s eta 0:00:01\r\u001b[K     |██████████████████▌             | 1.3MB 10.9MB/s eta 0:00:01\r\u001b[K     |██████████████████▋             | 1.3MB 10.9MB/s eta 0:00:01\r\u001b[K     |██████████████████▉             | 1.3MB 10.9MB/s eta 0:00:01\r\u001b[K     |███████████████████             | 1.3MB 10.9MB/s eta 0:00:01\r\u001b[K     |███████████████████             | 1.4MB 10.9MB/s eta 0:00:01\r\u001b[K     |███████████████████▏            | 1.4MB 10.9MB/s eta 0:00:01\r\u001b[K     |███████████████████▍            | 1.4MB 10.9MB/s eta 0:00:01\r\u001b[K     |███████████████████▌            | 1.4MB 10.9MB/s eta 0:00:01\r\u001b[K     |███████████████████▋            | 1.4MB 10.9MB/s eta 0:00:01\r\u001b[K     |███████████████████▉            | 1.4MB 10.9MB/s eta 0:00:01\r\u001b[K     |████████████████████            | 1.4MB 10.9MB/s eta 0:00:01\r\u001b[K     |████████████████████            | 1.4MB 10.9MB/s eta 0:00:01\r\u001b[K     |████████████████████▎           | 1.4MB 10.9MB/s eta 0:00:01\r\u001b[K     |████████████████████▍           | 1.4MB 10.9MB/s eta 0:00:01\r\u001b[K     |████████████████████▌           | 1.5MB 10.9MB/s eta 0:00:01\r\u001b[K     |████████████████████▋           | 1.5MB 10.9MB/s eta 0:00:01\r\u001b[K     |████████████████████▉           | 1.5MB 10.9MB/s eta 0:00:01\r\u001b[K     |█████████████████████           | 1.5MB 10.9MB/s eta 0:00:01\r\u001b[K     |█████████████████████           | 1.5MB 10.9MB/s eta 0:00:01\r\u001b[K     |█████████████████████▎          | 1.5MB 10.9MB/s eta 0:00:01\r\u001b[K     |█████████████████████▍          | 1.5MB 10.9MB/s eta 0:00:01\r\u001b[K     |█████████████████████▌          | 1.5MB 10.9MB/s eta 0:00:01\r\u001b[K     |█████████████████████▊          | 1.5MB 10.9MB/s eta 0:00:01\r\u001b[K     |█████████████████████▉          | 1.5MB 10.9MB/s eta 0:00:01\r\u001b[K     |██████████████████████          | 1.6MB 10.9MB/s eta 0:00:01\r\u001b[K     |██████████████████████▏         | 1.6MB 10.9MB/s eta 0:00:01\r\u001b[K     |██████████████████████▎         | 1.6MB 10.9MB/s eta 0:00:01\r\u001b[K     |██████████████████████▍         | 1.6MB 10.9MB/s eta 0:00:01\r\u001b[K     |██████████████████████▌         | 1.6MB 10.9MB/s eta 0:00:01\r\u001b[K     |██████████████████████▊         | 1.6MB 10.9MB/s eta 0:00:01\r\u001b[K     |██████████████████████▉         | 1.6MB 10.9MB/s eta 0:00:01\r\u001b[K     |███████████████████████         | 1.6MB 10.9MB/s eta 0:00:01\r\u001b[K     |███████████████████████▏        | 1.6MB 10.9MB/s eta 0:00:01\r\u001b[K     |███████████████████████▎        | 1.6MB 10.9MB/s eta 0:00:01\r\u001b[K     |███████████████████████▍        | 1.7MB 10.9MB/s eta 0:00:01\r\u001b[K     |███████████████████████▋        | 1.7MB 10.9MB/s eta 0:00:01\r\u001b[K     |███████████████████████▊        | 1.7MB 10.9MB/s eta 0:00:01\r\u001b[K     |███████████████████████▉        | 1.7MB 10.9MB/s eta 0:00:01\r\u001b[K     |████████████████████████        | 1.7MB 10.9MB/s eta 0:00:01\r\u001b[K     |████████████████████████▏       | 1.7MB 10.9MB/s eta 0:00:01\r\u001b[K     |████████████████████████▎       | 1.7MB 10.9MB/s eta 0:00:01\r\u001b[K     |████████████████████████▍       | 1.7MB 10.9MB/s eta 0:00:01\r\u001b[K     |████████████████████████▋       | 1.7MB 10.9MB/s eta 0:00:01\r\u001b[K     |████████████████████████▊       | 1.8MB 10.9MB/s eta 0:00:01\r\u001b[K     |████████████████████████▉       | 1.8MB 10.9MB/s eta 0:00:01\r\u001b[K     |█████████████████████████       | 1.8MB 10.9MB/s eta 0:00:01\r\u001b[K     |█████████████████████████▏      | 1.8MB 10.9MB/s eta 0:00:01\r\u001b[K     |█████████████████████████▎      | 1.8MB 10.9MB/s eta 0:00:01\r\u001b[K     |█████████████████████████▍      | 1.8MB 10.9MB/s eta 0:00:01\r\u001b[K     |█████████████████████████▋      | 1.8MB 10.9MB/s eta 0:00:01\r\u001b[K     |█████████████████████████▊      | 1.8MB 10.9MB/s eta 0:00:01\r\u001b[K     |█████████████████████████▉      | 1.8MB 10.9MB/s eta 0:00:01\r\u001b[K     |██████████████████████████      | 1.8MB 10.9MB/s eta 0:00:01\r\u001b[K     |██████████████████████████▏     | 1.9MB 10.9MB/s eta 0:00:01\r\u001b[K     |██████████████████████████▎     | 1.9MB 10.9MB/s eta 0:00:01\r\u001b[K     |██████████████████████████▌     | 1.9MB 10.9MB/s eta 0:00:01\r\u001b[K     |██████████████████████████▋     | 1.9MB 10.9MB/s eta 0:00:01\r\u001b[K     |██████████████████████████▊     | 1.9MB 10.9MB/s eta 0:00:01\r\u001b[K     |██████████████████████████▉     | 1.9MB 50kB/s eta 0:00:08\r\u001b[K     |███████████████████████████     | 1.9MB 50kB/s eta 0:00:07\r\u001b[K     |███████████████████████████▏    | 1.9MB 50kB/s eta 0:00:07\r\u001b[K     |███████████████████████████▎    | 1.9MB 50kB/s eta 0:00:07\r\u001b[K     |███████████████████████████▌    | 1.9MB 50kB/s eta 0:00:07\r\u001b[K     |███████████████████████████▋    | 2.0MB 50kB/s eta 0:00:07\r\u001b[K     |███████████████████████████▊    | 2.0MB 50kB/s eta 0:00:06\r\u001b[K     |████████████████████████████    | 2.0MB 50kB/s eta 0:00:06\r\u001b[K     |████████████████████████████    | 2.0MB 50kB/s eta 0:00:06\r\u001b[K     |████████████████████████████▏   | 2.0MB 50kB/s eta 0:00:06\r\u001b[K     |████████████████████████████▎   | 2.0MB 50kB/s eta 0:00:06\r\u001b[K     |████████████████████████████▌   | 2.0MB 50kB/s eta 0:00:05\r\u001b[K     |████████████████████████████▋   | 2.0MB 50kB/s eta 0:00:05\r\u001b[K     |████████████████████████████▊   | 2.0MB 50kB/s eta 0:00:05\r\u001b[K     |█████████████████████████████   | 2.0MB 50kB/s eta 0:00:05\r\u001b[K     |█████████████████████████████   | 2.1MB 50kB/s eta 0:00:05\r\u001b[K     |█████████████████████████████▏  | 2.1MB 50kB/s eta 0:00:04\r\u001b[K     |█████████████████████████████▍  | 2.1MB 50kB/s eta 0:00:04\r\u001b[K     |█████████████████████████████▌  | 2.1MB 50kB/s eta 0:00:04\r\u001b[K     |█████████████████████████████▋  | 2.1MB 50kB/s eta 0:00:04\r\u001b[K     |█████████████████████████████▊  | 2.1MB 50kB/s eta 0:00:04\r\u001b[K     |██████████████████████████████  | 2.1MB 50kB/s eta 0:00:03\r\u001b[K     |██████████████████████████████  | 2.1MB 50kB/s eta 0:00:03\r\u001b[K     |██████████████████████████████▏ | 2.1MB 50kB/s eta 0:00:03\r\u001b[K     |██████████████████████████████▍ | 2.2MB 50kB/s eta 0:00:03\r\u001b[K     |██████████████████████████████▌ | 2.2MB 50kB/s eta 0:00:03\r\u001b[K     |██████████████████████████████▋ | 2.2MB 50kB/s eta 0:00:02\r\u001b[K     |██████████████████████████████▉ | 2.2MB 50kB/s eta 0:00:02\r\u001b[K     |███████████████████████████████ | 2.2MB 50kB/s eta 0:00:02\r\u001b[K     |███████████████████████████████ | 2.2MB 50kB/s eta 0:00:02\r\u001b[K     |███████████████████████████████▏| 2.2MB 50kB/s eta 0:00:02\r\u001b[K     |███████████████████████████████▍| 2.2MB 50kB/s eta 0:00:01\r\u001b[K     |███████████████████████████████▌| 2.2MB 50kB/s eta 0:00:01\r\u001b[K     |███████████████████████████████▋| 2.2MB 50kB/s eta 0:00:01\r\u001b[K     |███████████████████████████████▉| 2.3MB 50kB/s eta 0:00:01\r\u001b[K     |████████████████████████████████| 2.3MB 50kB/s eta 0:00:01\r\u001b[K     |████████████████████████████████| 2.3MB 50kB/s \n",
            "\u001b[?25hCollecting pyemojify\n",
            "  Downloading https://files.pythonhosted.org/packages/59/f1/c7efdd1d7dcf296796d9e68071d5ec8e5b89cad73c2fbd4a6894284c4955/pyemojify-0.2.0-py2.py3-none-any.whl\n",
            "Requirement already satisfied: numpy in /usr/local/lib/python3.6/dist-packages (from biopython>=1.66->fastqe) (1.18.5)\n",
            "Requirement already satisfied: click>=4.1 in /usr/local/lib/python3.6/dist-packages (from pyemojify->fastqe) (7.1.2)\n",
            "Installing collected packages: biopython, pyemojify, fastqe\n",
            "Successfully installed biopython-1.77 fastqe-0.2.6 pyemojify-0.2.0\n"
          ],
          "name": "stdout"
        }
      ]
    },
    {
      "cell_type": "code",
      "metadata": {
        "trusted": true,
        "id": "L0uKOQLyZ_4h",
        "colab_type": "code",
        "colab": {
          "base_uri": "https://localhost:8080/",
          "height": 34
        },
        "outputId": "c7ab95b2-cdeb-45dd-eec3-a2fce6c8a2f7"
      },
      "source": [
        "%%bash\n",
        "pwd\n",
        "p"
      ],
      "execution_count": null,
      "outputs": [
        {
          "output_type": "stream",
          "text": [
            "/content\n"
          ],
          "name": "stdout"
        }
      ]
    },
    {
      "cell_type": "code",
      "metadata": {
        "id": "5-_7nyZEfuF-",
        "colab_type": "code",
        "colab": {}
      },
      "source": [
        "import fastqe"
      ],
      "execution_count": null,
      "outputs": []
    },
    {
      "cell_type": "code",
      "metadata": {
        "id": "6cEiigMPfxOS",
        "colab_type": "code",
        "colab": {}
      },
      "source": [
        ""
      ],
      "execution_count": null,
      "outputs": []
    },
    {
      "cell_type": "code",
      "metadata": {
        "id": "flLzLIRadRP7",
        "colab_type": "code",
        "colab": {
          "base_uri": "https://localhost:8080/",
          "height": 121
        },
        "outputId": "547d93db-4643-4f30-fda9-bf956d4fce38"
      },
      "source": [
        "!wget \"https://raw.githubusercontent.com/cjwomack/fastqe/blob/69a00068be8125e0ca7fbda72dc2bf03b010ef59/test/test.fastq\""
      ],
      "execution_count": null,
      "outputs": [
        {
          "output_type": "stream",
          "text": [
            "--2020-07-20 09:07:15--  https://raw.githubusercontent.com/cjwomack/fastqe/blob/69a00068be8125e0ca7fbda72dc2bf03b010ef59/test/test.fastq\n",
            "Resolving raw.githubusercontent.com (raw.githubusercontent.com)... 151.101.0.133, 151.101.64.133, 151.101.128.133, ...\n",
            "Connecting to raw.githubusercontent.com (raw.githubusercontent.com)|151.101.0.133|:443... connected.\n",
            "HTTP request sent, awaiting response... 404 Not Found\n",
            "2020-07-20 09:07:15 ERROR 404: Not Found.\n",
            "\n"
          ],
          "name": "stdout"
        }
      ]
    },
    {
      "cell_type": "code",
      "metadata": {
        "id": "IXdEE-kSfFT0",
        "colab_type": "code",
        "colab": {
          "base_uri": "https://localhost:8080/",
          "height": 204
        },
        "outputId": "55d1be0a-8c21-4a0e-ced9-25b8c27a9f26"
      },
      "source": [
        "!wget \"https://raw.githubusercontent.com/cjwomack/fastqe/master/test/test.fastq\""
      ],
      "execution_count": 2,
      "outputs": [
        {
          "output_type": "stream",
          "text": [
            "--2020-07-20 16:24:55--  https://raw.githubusercontent.com/cjwomack/fastqe/master/test/test.fastq\n",
            "Resolving raw.githubusercontent.com (raw.githubusercontent.com)... 151.101.0.133, 151.101.64.133, 151.101.128.133, ...\n",
            "Connecting to raw.githubusercontent.com (raw.githubusercontent.com)|151.101.0.133|:443... connected.\n",
            "HTTP request sent, awaiting response... 200 OK\n",
            "Length: 2225 (2.2K) [text/plain]\n",
            "Saving to: ‘test.fastq’\n",
            "\n",
            "\rtest.fastq            0%[                    ]       0  --.-KB/s               \rtest.fastq          100%[===================>]   2.17K  --.-KB/s    in 0s      \n",
            "\n",
            "2020-07-20 16:24:55 (37.0 MB/s) - ‘test.fastq’ saved [2225/2225]\n",
            "\n"
          ],
          "name": "stdout"
        }
      ]
    },
    {
      "cell_type": "code",
      "metadata": {
        "id": "7uVoJ_q0_Xck",
        "colab_type": "code",
        "colab": {
          "base_uri": "https://localhost:8080/",
          "height": 204
        },
        "outputId": "94781923-1532-4f46-e105-7bb4faa9689b"
      },
      "source": [
        "!wget \"https://raw.githubusercontent.com/cjwomack/fastqe/fasta_display/test/protein.fasta\""
      ],
      "execution_count": 3,
      "outputs": [
        {
          "output_type": "stream",
          "text": [
            "--2020-07-20 16:24:59--  https://raw.githubusercontent.com/cjwomack/fastqe/fasta_display/test/protein.fasta\n",
            "Resolving raw.githubusercontent.com (raw.githubusercontent.com)... 151.101.0.133, 151.101.64.133, 151.101.128.133, ...\n",
            "Connecting to raw.githubusercontent.com (raw.githubusercontent.com)|151.101.0.133|:443... connected.\n",
            "HTTP request sent, awaiting response... 200 OK\n",
            "Length: 2363 (2.3K) [text/plain]\n",
            "Saving to: ‘protein.fasta’\n",
            "\n",
            "\rprotein.fasta         0%[                    ]       0  --.-KB/s               \rprotein.fasta       100%[===================>]   2.31K  --.-KB/s    in 0s      \n",
            "\n",
            "2020-07-20 16:24:59 (39.9 MB/s) - ‘protein.fasta’ saved [2363/2363]\n",
            "\n"
          ],
          "name": "stdout"
        }
      ]
    },
    {
      "cell_type": "code",
      "metadata": {
        "id": "a1uvXtcMgIKT",
        "colab_type": "code",
        "colab": {
          "base_uri": "https://localhost:8080/",
          "height": 204
        },
        "outputId": "b25f2419-3c9f-43d0-872e-bfadc19223d1"
      },
      "source": [
        "!wget \"https://raw.githubusercontent.com/cjwomack/fastqe/fasta_display/training/i_fastqe_2.py\""
      ],
      "execution_count": 4,
      "outputs": [
        {
          "output_type": "stream",
          "text": [
            "--2020-07-20 16:25:04--  https://raw.githubusercontent.com/cjwomack/fastqe/fasta_display/training/i_fastqe_2.py\n",
            "Resolving raw.githubusercontent.com (raw.githubusercontent.com)... 151.101.0.133, 151.101.64.133, 151.101.128.133, ...\n",
            "Connecting to raw.githubusercontent.com (raw.githubusercontent.com)|151.101.0.133|:443... connected.\n",
            "HTTP request sent, awaiting response... 200 OK\n",
            "Length: 20609 (20K) [text/plain]\n",
            "Saving to: ‘i_fastqe_2.py’\n",
            "\n",
            "\ri_fastqe_2.py         0%[                    ]       0  --.-KB/s               \ri_fastqe_2.py       100%[===================>]  20.13K  --.-KB/s    in 0.004s  \n",
            "\n",
            "2020-07-20 16:25:04 (5.47 MB/s) - ‘i_fastqe_2.py’ saved [20609/20609]\n",
            "\n"
          ],
          "name": "stdout"
        }
      ]
    },
    {
      "cell_type": "code",
      "metadata": {
        "id": "IfQ-dR1ogoIB",
        "colab_type": "code",
        "colab": {
          "base_uri": "https://localhost:8080/",
          "height": 204
        },
        "outputId": "4ad1a836-8a7c-4cd3-bb43-1837b3dcb00d"
      },
      "source": [
        "!wget \"https://raw.githubusercontent.com/cjwomack/fastqe/fasta_display/fastqe/fastqe_map.py\""
      ],
      "execution_count": 5,
      "outputs": [
        {
          "output_type": "stream",
          "text": [
            "--2020-07-20 16:25:08--  https://raw.githubusercontent.com/cjwomack/fastqe/fasta_display/fastqe/fastqe_map.py\n",
            "Resolving raw.githubusercontent.com (raw.githubusercontent.com)... 151.101.0.133, 151.101.64.133, 151.101.128.133, ...\n",
            "Connecting to raw.githubusercontent.com (raw.githubusercontent.com)|151.101.0.133|:443... connected.\n",
            "HTTP request sent, awaiting response... 200 OK\n",
            "Length: 3895 (3.8K) [text/plain]\n",
            "Saving to: ‘fastqe_map.py’\n",
            "\n",
            "\rfastqe_map.py         0%[                    ]       0  --.-KB/s               \rfastqe_map.py       100%[===================>]   3.80K  --.-KB/s    in 0s      \n",
            "\n",
            "2020-07-20 16:25:08 (55.0 MB/s) - ‘fastqe_map.py’ saved [3895/3895]\n",
            "\n"
          ],
          "name": "stdout"
        }
      ]
    },
    {
      "cell_type": "code",
      "metadata": {
        "id": "QI6SGfPBdjar",
        "colab_type": "code",
        "colab": {
          "base_uri": "https://localhost:8080/",
          "height": 34
        },
        "outputId": "3bc5ae21-2f60-4da1-d3e0-5d322eef1bd5"
      },
      "source": [
        "%ls"
      ],
      "execution_count": null,
      "outputs": [
        {
          "output_type": "stream",
          "text": [
            "fastqe_map.py  i_fastqe.py  \u001b[0m\u001b[01;34m__pycache__\u001b[0m/  \u001b[01;34msample_data\u001b[0m/  test.fastq\n"
          ],
          "name": "stdout"
        }
      ]
    },
    {
      "cell_type": "code",
      "metadata": {
        "id": "mGfu_1vsgXOa",
        "colab_type": "code",
        "colab": {
          "base_uri": "https://localhost:8080/",
          "height": 54
        },
        "outputId": "839f3ffd-782c-4e28-d8cd-f298e9e21b6b"
      },
      "source": [
        "import i_fastqe\n",
        "i_fastqe.run_fastqe([\"test.fastq\"])"
      ],
      "execution_count": null,
      "outputs": [
        {
          "output_type": "stream",
          "text": [
            "test.fastq\tmean\t😘 😆 ☺️ ☺️ 😋 😜 😜 😜 😋 😜 😜 😉 😁 😁 😁 😁 😁 😉 😉 😁 😁 😁 😄 😁 😁 😄 😄 😁 😄 😁 😁 😁 😄 😄 😄 😄 😁 😄 😉 😁 😄 😁 😁 😄 😄 😁 😁 😄 😉 😁 😁 😝 😝 😁 😁 ☺️ 😁 😉 😁 😁 😁 😁 😁 😝 😁 😁 😁 😁 😝 😁 😁 😉 😁 😁 😉 😁 😉 😃 😉 😁 😁 😁 😄 😁 😄 😄 😁 😄 😁 😝 😁 😄 😄 😁 😉 😁 😉 😁 😁 😁 😁 😄 😄 😁 😁 ☺️ 😉 😜 😁 😁 😁 😁 😁 😉 😁 😜 😁 😝 😁 😁 😁 😁 😁 😁 😁 😁 😁 😉 😄 😜 😁 😄 😁 😄 😁 😄 😁 😁 😜 😜 😜 😜 😉 😜 😉 😁 😉 😋 😜 😛 😉 😜 😜 😜 😉 😉 😉 😁 😁 😁 😁 😁 😋 😛 😜 😜 😁 😛 😄 😋 😛 😝 😉 😉 😄 ☺️ 😜 😜 😛 😆 😛 😉 😜 😜 😜 😜 😋 😝 😋 😜 😉 😉 😄 😉 😝 😝 😛 😋 😜 😜 😜 😄 😆 😜 😝 😉 😜 😋 😉 😜 😄 ☺️ ☺️ 😜 😘 😝 😆 😄 😜 😜 😜 😉 😛 😄 ☺️ 😙 😊 😄 😝 😆 😜 😉 😜 😄 😄 ☺️ ☺️ 😜 😉 😜 😉 😆 😆 😛 😙 😃 😙 😘 😝 😙 😡\n"
          ],
          "name": "stdout"
        }
      ]
    },
    {
      "cell_type": "code",
      "metadata": {
        "id": "dsiHv1X4_8EP",
        "colab_type": "code",
        "colab": {}
      },
      "source": [
        "rm fastqe_map.py"
      ],
      "execution_count": null,
      "outputs": []
    },
    {
      "cell_type": "code",
      "metadata": {
        "id": "Ti88RAXXj0MO",
        "colab_type": "code",
        "colab": {
          "base_uri": "https://localhost:8080/",
          "height": 323
        },
        "outputId": "1becb8b8-8788-4072-abe7-7f5010171757"
      },
      "source": [
        "import i_fastqe_2\n",
        "i_fastqe_2.run_fastqe([\"protein.fasta\"],scale=True,fasta=True)"
      ],
      "execution_count": 7,
      "outputs": [
        {
          "output_type": "error",
          "ename": "TypeError",
          "evalue": "ignored",
          "traceback": [
            "\u001b[0;31m---------------------------------------------------------------------------\u001b[0m",
            "\u001b[0;31mTypeError\u001b[0m                                 Traceback (most recent call last)",
            "\u001b[0;32m<ipython-input-7-b676e20ec3e3>\u001b[0m in \u001b[0;36m<module>\u001b[0;34m()\u001b[0m\n\u001b[1;32m      1\u001b[0m \u001b[0;32mimport\u001b[0m \u001b[0mi_fastqe_2\u001b[0m\u001b[0;34m\u001b[0m\u001b[0;34m\u001b[0m\u001b[0m\n\u001b[0;32m----> 2\u001b[0;31m \u001b[0mi_fastqe_2\u001b[0m\u001b[0;34m.\u001b[0m\u001b[0mrun_fastqe\u001b[0m\u001b[0;34m(\u001b[0m\u001b[0;34m[\u001b[0m\u001b[0;34m\"protein.fasta\"\u001b[0m\u001b[0;34m]\u001b[0m\u001b[0;34m,\u001b[0m\u001b[0mscale\u001b[0m\u001b[0;34m=\u001b[0m\u001b[0;32mTrue\u001b[0m\u001b[0;34m,\u001b[0m\u001b[0mfasta\u001b[0m\u001b[0;34m=\u001b[0m\u001b[0;32mTrue\u001b[0m\u001b[0;34m)\u001b[0m\u001b[0;34m\u001b[0m\u001b[0;34m\u001b[0m\u001b[0m\n\u001b[0m",
            "\u001b[0;32m/content/i_fastqe_2.py\u001b[0m in \u001b[0;36mrun_fastqe\u001b[0;34m(fasta_files, minlen, scale, version, mean, custom, noemoji, min, max, output, long, log, bin, fasta)\u001b[0m\n\u001b[1;32m    563\u001b[0m     \u001b[0moptions\u001b[0m \u001b[0;34m=\u001b[0m \u001b[0mNamespace\u001b[0m\u001b[0;34m(\u001b[0m\u001b[0mbin\u001b[0m\u001b[0;34m=\u001b[0m\u001b[0mbin\u001b[0m\u001b[0;34m,\u001b[0m \u001b[0mfasta\u001b[0m\u001b[0;34m=\u001b[0m\u001b[0mfasta\u001b[0m\u001b[0;34m,\u001b[0m \u001b[0mcustom\u001b[0m\u001b[0;34m=\u001b[0m\u001b[0mcustom\u001b[0m\u001b[0;34m,\u001b[0m \u001b[0mfasta_files\u001b[0m\u001b[0;34m=\u001b[0m\u001b[0mfasta_files\u001b[0m\u001b[0;34m,\u001b[0m\u001b[0mlog\u001b[0m\u001b[0;34m=\u001b[0m\u001b[0mlog\u001b[0m\u001b[0;34m,\u001b[0m \u001b[0mlong\u001b[0m\u001b[0;34m=\u001b[0m\u001b[0mlong\u001b[0m\u001b[0;34m,\u001b[0m \u001b[0mmax\u001b[0m\u001b[0;34m=\u001b[0m\u001b[0mmax\u001b[0m\u001b[0;34m,\u001b[0m \u001b[0mmean\u001b[0m\u001b[0;34m=\u001b[0m\u001b[0mmean\u001b[0m\u001b[0;34m,\u001b[0m \u001b[0mmin\u001b[0m\u001b[0;34m=\u001b[0m\u001b[0mmin\u001b[0m\u001b[0;34m,\u001b[0m \u001b[0mminlen\u001b[0m\u001b[0;34m=\u001b[0m\u001b[0mminlen\u001b[0m\u001b[0;34m,\u001b[0m \u001b[0mnoemoji\u001b[0m\u001b[0;34m=\u001b[0m\u001b[0mnoemoji\u001b[0m\u001b[0;34m,\u001b[0m \u001b[0moutput\u001b[0m\u001b[0;34m=\u001b[0m\u001b[0moutput\u001b[0m\u001b[0;34m,\u001b[0m \u001b[0mscale\u001b[0m\u001b[0;34m=\u001b[0m\u001b[0mscale\u001b[0m\u001b[0;34m,\u001b[0m \u001b[0mversion\u001b[0m\u001b[0;34m=\u001b[0m\u001b[0;32mTrue\u001b[0m\u001b[0;34m)\u001b[0m\u001b[0;34m\u001b[0m\u001b[0;34m\u001b[0m\u001b[0m\n\u001b[1;32m    564\u001b[0m \u001b[0;34m\u001b[0m\u001b[0m\n\u001b[0;32m--> 565\u001b[0;31m     \u001b[0mprocess_files\u001b[0m\u001b[0;34m(\u001b[0m\u001b[0moptions\u001b[0m\u001b[0;34m)\u001b[0m\u001b[0;34m\u001b[0m\u001b[0;34m\u001b[0m\u001b[0m\n\u001b[0m\u001b[1;32m    566\u001b[0m \u001b[0;34m\u001b[0m\u001b[0m\n\u001b[1;32m    567\u001b[0m \u001b[0;32mdef\u001b[0m \u001b[0mmain\u001b[0m\u001b[0;34m(\u001b[0m\u001b[0;34m)\u001b[0m\u001b[0;34m:\u001b[0m\u001b[0;34m\u001b[0m\u001b[0;34m\u001b[0m\u001b[0m\n",
            "\u001b[0;32m/content/i_fastqe_2.py\u001b[0m in \u001b[0;36mprocess_files\u001b[0;34m(options)\u001b[0m\n\u001b[1;32m    373\u001b[0m \u001b[0;34m\u001b[0m\u001b[0m\n\u001b[1;32m    374\u001b[0m     \u001b[0;32mif\u001b[0m \u001b[0moptions\u001b[0m\u001b[0;34m.\u001b[0m\u001b[0mfasta\u001b[0m\u001b[0;34m:\u001b[0m\u001b[0;34m\u001b[0m\u001b[0;34m\u001b[0m\u001b[0m\n\u001b[0;32m--> 375\u001b[0;31m         \u001b[0;32mif\u001b[0m \u001b[0misProtein\u001b[0m\u001b[0;34m(\u001b[0m\u001b[0;34m)\u001b[0m\u001b[0;34m:\u001b[0m\u001b[0;34m\u001b[0m\u001b[0;34m\u001b[0m\u001b[0m\n\u001b[0m\u001b[1;32m    376\u001b[0m             \u001b[0mmapping_dict\u001b[0m \u001b[0;34m=\u001b[0m \u001b[0memaps\u001b[0m\u001b[0;34m.\u001b[0m\u001b[0mprot_seq_emoji_map\u001b[0m\u001b[0;34m\u001b[0m\u001b[0;34m\u001b[0m\u001b[0m\n\u001b[1;32m    377\u001b[0m             \u001b[0mlogging\u001b[0m\u001b[0;34m.\u001b[0m\u001b[0minfo\u001b[0m\u001b[0;34m(\u001b[0m\u001b[0;34m\"Use FASTA file map for protein\"\u001b[0m\u001b[0;34m)\u001b[0m\u001b[0;34m\u001b[0m\u001b[0;34m\u001b[0m\u001b[0m\n",
            "\u001b[0;31mTypeError\u001b[0m: isProtein() missing 1 required positional argument: 'sequence'"
          ]
        }
      ]
    },
    {
      "cell_type": "code",
      "metadata": {
        "id": "gkyMfUmghR19",
        "colab_type": "code",
        "colab": {}
      },
      "source": [
        "☺😘☺️"
      ],
      "execution_count": null,
      "outputs": []
    },
    {
      "cell_type": "code",
      "metadata": {
        "id": "RDNgRQafg5tT",
        "colab_type": "code",
        "colab": {
          "base_uri": "https://localhost:8080/",
          "height": 311
        },
        "outputId": "d2eef6e7-d3fc-416b-df38-010be31a2fc7"
      },
      "source": [
        "%%bash\n",
        "fc-list"
      ],
      "execution_count": null,
      "outputs": [
        {
          "output_type": "stream",
          "text": [
            "/usr/share/fonts/truetype/liberation/LiberationSansNarrow-Italic.ttf: Liberation Sans Narrow:style=Italic\n",
            "/usr/share/fonts/truetype/liberation/LiberationSans-Regular.ttf: Liberation Sans:style=Regular\n",
            "/usr/share/fonts/truetype/liberation/LiberationMono-BoldItalic.ttf: Liberation Mono:style=Bold Italic\n",
            "/usr/share/fonts/truetype/liberation/LiberationSerif-Italic.ttf: Liberation Serif:style=Italic\n",
            "/usr/share/fonts/truetype/liberation/LiberationMono-Bold.ttf: Liberation Mono:style=Bold\n",
            "/usr/share/fonts/truetype/liberation/LiberationSansNarrow-Regular.ttf: Liberation Sans Narrow:style=Regular\n",
            "/usr/share/fonts/truetype/liberation/LiberationSerif-Bold.ttf: Liberation Serif:style=Bold\n",
            "/usr/share/fonts/truetype/liberation/LiberationMono-Regular.ttf: Liberation Mono:style=Regular\n",
            "/usr/share/fonts/truetype/liberation/LiberationSans-Italic.ttf: Liberation Sans:style=Italic\n",
            "/usr/share/fonts/truetype/liberation/LiberationSerif-BoldItalic.ttf: Liberation Serif:style=Bold Italic\n",
            "/usr/share/fonts/truetype/liberation/LiberationSansNarrow-BoldItalic.ttf: Liberation Sans Narrow:style=Bold Italic\n",
            "/usr/share/fonts/truetype/liberation/LiberationMono-Italic.ttf: Liberation Mono:style=Italic\n",
            "/usr/share/fonts/truetype/liberation/LiberationSans-BoldItalic.ttf: Liberation Sans:style=Bold Italic\n",
            "/usr/share/fonts/truetype/liberation/LiberationSerif-Regular.ttf: Liberation Serif:style=Regular\n",
            "/usr/share/fonts/truetype/liberation/LiberationSansNarrow-Bold.ttf: Liberation Sans Narrow:style=Bold\n",
            "/usr/share/fonts/truetype/liberation/LiberationSans-Bold.ttf: Liberation Sans:style=Bold\n",
            "/usr/share/fonts/truetype/humor-sans/Humor-Sans.ttf: Humor Sans:style=Regular\n"
          ],
          "name": "stdout"
        }
      ]
    },
    {
      "cell_type": "code",
      "metadata": {
        "id": "jUbxjtsodmzU",
        "colab_type": "code",
        "colab": {}
      },
      "source": [
        "%%bash\n",
        "rm test.fastq*"
      ],
      "execution_count": null,
      "outputs": []
    }
  ]
}